{
  "nbformat": 4,
  "nbformat_minor": 0,
  "metadata": {
    "colab": {
      "name": "Копия блокнота \"Hack_task.ipynb\"",
      "provenance": [],
      "collapsed_sections": []
    },
    "kernelspec": {
      "name": "python3",
      "display_name": "Python 3"
    },
    "language_info": {
      "name": "python"
    },
    "accelerator": "GPU"
  },
  "cells": [
    {
      "cell_type": "code",
      "execution_count": null,
      "metadata": {
        "id": "rZY7ujkP_7WT"
      },
      "outputs": [],
      "source": [
        "import pandas as pd\n",
        "import sklearn as sk\n",
        "import numpy as np\n",
        "from sklearn.model_selection import train_test_split, cross_val_score\n",
        "import tensorflow as tf\n",
        "import requests\n",
        "pd.set_option('display.max_rows', 500)\n",
        "pd.set_option('display.max_columns', 500)\n",
        "pd.set_option('display.width', 1000)\n",
        "from sklearn import preprocessing\n",
        "from matplotlib import pyplot as plt\n",
        "from sklearn.metrics import confusion_matrix\n",
        "import datetime\n",
        "import io"
      ]
    },
    {
      "cell_type": "code",
      "source": [
        "from google.colab import drive\n",
        "drive.mount(\"/content/drive/\")"
      ],
      "metadata": {
        "colab": {
          "base_uri": "https://localhost:8080/"
        },
        "id": "ZOdVHLI4A_zb",
        "outputId": "814f6d2c-2785-44d9-e1b7-b64e2e2cf8b2"
      },
      "execution_count": null,
      "outputs": [
        {
          "output_type": "stream",
          "name": "stdout",
          "text": [
            "Mounted at /content/drive/\n"
          ]
        }
      ]
    },
    {
      "cell_type": "code",
      "source": [
        "data = pd.read_csv(\"/content/drive/MyDrive/hacks/train.csv\")\n",
        "test_data = pd.read_csv(\"/content/drive/MyDrive/hacks/test.csv\")"
      ],
      "metadata": {
        "id": "wD8_AVdsBCQD"
      },
      "execution_count": null,
      "outputs": []
    },
    {
      "cell_type": "code",
      "source": [
        "from xgboost import XGBClassifier"
      ],
      "metadata": {
        "id": "ZkSXyLroohJf"
      },
      "execution_count": null,
      "outputs": []
    },
    {
      "cell_type": "code",
      "source": [
        "def read_data(path, has_target):\n",
        "    df = pd.read_csv(path)\n",
        "    \n",
        "\n",
        "    df_weeks = [df[df['Week'] == w].drop(columns=['Week']).set_index(['Id']) for w in range(4)]\n",
        "\n",
        "\n",
        "    \n",
        "    if has_target:\n",
        "        df_target = df_weeks[0]['target']\n",
        "        df_weeks = [df.drop(columns=['target']) for df in df_weeks]\n",
        "    \n",
        "    for w in range(4):\n",
        "        df_weeks[w].columns = [f'{col}_w{w}' for col in df_weeks[w].columns]\n",
        "    df_res = df_weeks[0].join(df_weeks[1:])\n",
        "    \n",
        "    if has_target:\n",
        "        return df_res, df_target\n",
        "    return df_res"
      ],
      "metadata": {
        "id": "bxOSr7zUopQW"
      },
      "execution_count": null,
      "outputs": []
    },
    {
      "cell_type": "code",
      "source": [
        "X_train, y_train = read_data('/content/drive/MyDrive/hacks/train.csv', has_target=True)\n",
        "X_test           = read_data('/content/drive/MyDrive/hacks/test.csv',  has_target=False)"
      ],
      "metadata": {
        "id": "OPDaUO9ooph0"
      },
      "execution_count": null,
      "outputs": []
    },
    {
      "cell_type": "code",
      "source": [
        "clf = XGBClassifier(use_label_encoder=False, eval_metric='logloss')  # just to silence the warnings\n",
        "clf.fit(X_train, y_train)"
      ],
      "metadata": {
        "colab": {
          "base_uri": "https://localhost:8080/"
        },
        "id": "c_LnhVHqopt0",
        "outputId": "185314f4-af7a-4972-d067-14c82c89fcf8"
      },
      "execution_count": null,
      "outputs": [
        {
          "output_type": "execute_result",
          "data": {
            "text/plain": [
              "XGBClassifier(eval_metric='logloss', use_label_encoder=False)"
            ]
          },
          "metadata": {},
          "execution_count": 28
        }
      ]
    },
    {
      "cell_type": "code",
      "source": [
        "y_test = clf.predict_proba(X_test)[:, 1]\n",
        "res = pd.DataFrame(y_test, columns=['Predicted'])\n",
        "res.index = X_test.index\n",
        "res.head()"
      ],
      "metadata": {
        "colab": {
          "base_uri": "https://localhost:8080/",
          "height": 238
        },
        "id": "029yNcL_op9U",
        "outputId": "2f28d2ff-9a77-4867-8a05-b6e143efb5bf"
      },
      "execution_count": null,
      "outputs": [
        {
          "output_type": "execute_result",
          "data": {
            "text/html": [
              "\n",
              "  <div id=\"df-d72fa560-0d4e-4a70-b8c7-2fafa0ab5555\">\n",
              "    <div class=\"colab-df-container\">\n",
              "      <div>\n",
              "<style scoped>\n",
              "    .dataframe tbody tr th:only-of-type {\n",
              "        vertical-align: middle;\n",
              "    }\n",
              "\n",
              "    .dataframe tbody tr th {\n",
              "        vertical-align: top;\n",
              "    }\n",
              "\n",
              "    .dataframe thead th {\n",
              "        text-align: right;\n",
              "    }\n",
              "</style>\n",
              "<table border=\"1\" class=\"dataframe\">\n",
              "  <thead>\n",
              "    <tr style=\"text-align: right;\">\n",
              "      <th></th>\n",
              "      <th>Predicted</th>\n",
              "    </tr>\n",
              "    <tr>\n",
              "      <th>Id</th>\n",
              "      <th></th>\n",
              "    </tr>\n",
              "  </thead>\n",
              "  <tbody>\n",
              "    <tr>\n",
              "      <th>6107424960806386948</th>\n",
              "      <td>0.007021</td>\n",
              "    </tr>\n",
              "    <tr>\n",
              "      <th>-1808613790090531322</th>\n",
              "      <td>0.014067</td>\n",
              "    </tr>\n",
              "    <tr>\n",
              "      <th>-2649749947427248381</th>\n",
              "      <td>0.951422</td>\n",
              "    </tr>\n",
              "    <tr>\n",
              "      <th>4684257435812939224</th>\n",
              "      <td>0.249799</td>\n",
              "    </tr>\n",
              "    <tr>\n",
              "      <th>-7030158396775705152</th>\n",
              "      <td>0.030545</td>\n",
              "    </tr>\n",
              "  </tbody>\n",
              "</table>\n",
              "</div>\n",
              "      <button class=\"colab-df-convert\" onclick=\"convertToInteractive('df-d72fa560-0d4e-4a70-b8c7-2fafa0ab5555')\"\n",
              "              title=\"Convert this dataframe to an interactive table.\"\n",
              "              style=\"display:none;\">\n",
              "        \n",
              "  <svg xmlns=\"http://www.w3.org/2000/svg\" height=\"24px\"viewBox=\"0 0 24 24\"\n",
              "       width=\"24px\">\n",
              "    <path d=\"M0 0h24v24H0V0z\" fill=\"none\"/>\n",
              "    <path d=\"M18.56 5.44l.94 2.06.94-2.06 2.06-.94-2.06-.94-.94-2.06-.94 2.06-2.06.94zm-11 1L8.5 8.5l.94-2.06 2.06-.94-2.06-.94L8.5 2.5l-.94 2.06-2.06.94zm10 10l.94 2.06.94-2.06 2.06-.94-2.06-.94-.94-2.06-.94 2.06-2.06.94z\"/><path d=\"M17.41 7.96l-1.37-1.37c-.4-.4-.92-.59-1.43-.59-.52 0-1.04.2-1.43.59L10.3 9.45l-7.72 7.72c-.78.78-.78 2.05 0 2.83L4 21.41c.39.39.9.59 1.41.59.51 0 1.02-.2 1.41-.59l7.78-7.78 2.81-2.81c.8-.78.8-2.07 0-2.86zM5.41 20L4 18.59l7.72-7.72 1.47 1.35L5.41 20z\"/>\n",
              "  </svg>\n",
              "      </button>\n",
              "      \n",
              "  <style>\n",
              "    .colab-df-container {\n",
              "      display:flex;\n",
              "      flex-wrap:wrap;\n",
              "      gap: 12px;\n",
              "    }\n",
              "\n",
              "    .colab-df-convert {\n",
              "      background-color: #E8F0FE;\n",
              "      border: none;\n",
              "      border-radius: 50%;\n",
              "      cursor: pointer;\n",
              "      display: none;\n",
              "      fill: #1967D2;\n",
              "      height: 32px;\n",
              "      padding: 0 0 0 0;\n",
              "      width: 32px;\n",
              "    }\n",
              "\n",
              "    .colab-df-convert:hover {\n",
              "      background-color: #E2EBFA;\n",
              "      box-shadow: 0px 1px 2px rgba(60, 64, 67, 0.3), 0px 1px 3px 1px rgba(60, 64, 67, 0.15);\n",
              "      fill: #174EA6;\n",
              "    }\n",
              "\n",
              "    [theme=dark] .colab-df-convert {\n",
              "      background-color: #3B4455;\n",
              "      fill: #D2E3FC;\n",
              "    }\n",
              "\n",
              "    [theme=dark] .colab-df-convert:hover {\n",
              "      background-color: #434B5C;\n",
              "      box-shadow: 0px 1px 3px 1px rgba(0, 0, 0, 0.15);\n",
              "      filter: drop-shadow(0px 1px 2px rgba(0, 0, 0, 0.3));\n",
              "      fill: #FFFFFF;\n",
              "    }\n",
              "  </style>\n",
              "\n",
              "      <script>\n",
              "        const buttonEl =\n",
              "          document.querySelector('#df-d72fa560-0d4e-4a70-b8c7-2fafa0ab5555 button.colab-df-convert');\n",
              "        buttonEl.style.display =\n",
              "          google.colab.kernel.accessAllowed ? 'block' : 'none';\n",
              "\n",
              "        async function convertToInteractive(key) {\n",
              "          const element = document.querySelector('#df-d72fa560-0d4e-4a70-b8c7-2fafa0ab5555');\n",
              "          const dataTable =\n",
              "            await google.colab.kernel.invokeFunction('convertToInteractive',\n",
              "                                                     [key], {});\n",
              "          if (!dataTable) return;\n",
              "\n",
              "          const docLinkHtml = 'Like what you see? Visit the ' +\n",
              "            '<a target=\"_blank\" href=https://colab.research.google.com/notebooks/data_table.ipynb>data table notebook</a>'\n",
              "            + ' to learn more about interactive tables.';\n",
              "          element.innerHTML = '';\n",
              "          dataTable['output_type'] = 'display_data';\n",
              "          await google.colab.output.renderOutput(dataTable, element);\n",
              "          const docLink = document.createElement('div');\n",
              "          docLink.innerHTML = docLinkHtml;\n",
              "          element.appendChild(docLink);\n",
              "        }\n",
              "      </script>\n",
              "    </div>\n",
              "  </div>\n",
              "  "
            ],
            "text/plain": [
              "                      Predicted\n",
              "Id                             \n",
              " 6107424960806386948   0.007021\n",
              "-1808613790090531322   0.014067\n",
              "-2649749947427248381   0.951422\n",
              " 4684257435812939224   0.249799\n",
              "-7030158396775705152   0.030545"
            ]
          },
          "metadata": {},
          "execution_count": 29
        }
      ]
    },
    {
      "cell_type": "code",
      "source": [
        "res.to_csv('final_3.csv')"
      ],
      "metadata": {
        "id": "vZ4xsTyOpAMi"
      },
      "execution_count": null,
      "outputs": []
    },
    {
      "cell_type": "code",
      "source": [
        "from google.colab import files\n",
        "files.download(\"final_3.csv\")"
      ],
      "metadata": {
        "colab": {
          "base_uri": "https://localhost:8080/",
          "height": 17
        },
        "id": "C1j4TiNpo_js",
        "outputId": "ade361a2-60f6-4a90-b8ac-438d77ed62fe"
      },
      "execution_count": null,
      "outputs": [
        {
          "output_type": "display_data",
          "data": {
            "application/javascript": [
              "\n",
              "    async function download(id, filename, size) {\n",
              "      if (!google.colab.kernel.accessAllowed) {\n",
              "        return;\n",
              "      }\n",
              "      const div = document.createElement('div');\n",
              "      const label = document.createElement('label');\n",
              "      label.textContent = `Downloading \"${filename}\": `;\n",
              "      div.appendChild(label);\n",
              "      const progress = document.createElement('progress');\n",
              "      progress.max = size;\n",
              "      div.appendChild(progress);\n",
              "      document.body.appendChild(div);\n",
              "\n",
              "      const buffers = [];\n",
              "      let downloaded = 0;\n",
              "\n",
              "      const channel = await google.colab.kernel.comms.open(id);\n",
              "      // Send a message to notify the kernel that we're ready.\n",
              "      channel.send({})\n",
              "\n",
              "      for await (const message of channel.messages) {\n",
              "        // Send a message to notify the kernel that we're ready.\n",
              "        channel.send({})\n",
              "        if (message.buffers) {\n",
              "          for (const buffer of message.buffers) {\n",
              "            buffers.push(buffer);\n",
              "            downloaded += buffer.byteLength;\n",
              "            progress.value = downloaded;\n",
              "          }\n",
              "        }\n",
              "      }\n",
              "      const blob = new Blob(buffers, {type: 'application/binary'});\n",
              "      const a = document.createElement('a');\n",
              "      a.href = window.URL.createObjectURL(blob);\n",
              "      a.download = filename;\n",
              "      div.appendChild(a);\n",
              "      a.click();\n",
              "      div.remove();\n",
              "    }\n",
              "  "
            ],
            "text/plain": [
              "<IPython.core.display.Javascript object>"
            ]
          },
          "metadata": {}
        },
        {
          "output_type": "display_data",
          "data": {
            "application/javascript": [
              "download(\"download_2d2470dd-f5b6-4193-b841-7aa03e2ff5ed\", \"final_3.csv\", 106584)"
            ],
            "text/plain": [
              "<IPython.core.display.Javascript object>"
            ]
          },
          "metadata": {}
        }
      ]
    },
    {
      "cell_type": "markdown",
      "source": [
        "Дальше не нужно..."
      ],
      "metadata": {
        "id": "cnikW5dQsR3G"
      }
    },
    {
      "cell_type": "code",
      "source": [
        "data.head(500)"
      ],
      "metadata": {
        "id": "vRPQw0lWYQoT"
      },
      "execution_count": null,
      "outputs": []
    },
    {
      "cell_type": "code",
      "source": [
        "testing_df = pd.DataFrame(data.groupby(['Id'], as_index=False).mean())\n",
        "testing_df[testing_df.V3.isnull()].index"
      ],
      "metadata": {
        "colab": {
          "base_uri": "https://localhost:8080/"
        },
        "id": "BcxussK1ZAGJ",
        "outputId": "883e9925-d24a-4674-9df1-bd2d52f35006"
      },
      "execution_count": null,
      "outputs": [
        {
          "output_type": "execute_result",
          "data": {
            "text/plain": [
              "Int64Index([   9,   15,   18,   19,   30,   35,   39,   47,   48,   52,\n",
              "            ...\n",
              "            7655, 7664, 7668, 7673, 7674, 7676, 7682, 7693, 7700, 7712], dtype='int64', length=1775)"
            ]
          },
          "metadata": {},
          "execution_count": 160
        }
      ]
    },
    {
      "cell_type": "code",
      "source": [
        "data = data.drop(index=data[data.V3.isnull()].index)"
      ],
      "metadata": {
        "id": "mNuAqc2-ZdBv"
      },
      "execution_count": null,
      "outputs": []
    },
    {
      "cell_type": "code",
      "source": [
        "data = data.reset_index().drop('index', axis=1)"
      ],
      "metadata": {
        "id": "Nnj9a1HnZ6hZ"
      },
      "execution_count": null,
      "outputs": []
    },
    {
      "cell_type": "code",
      "source": [
        "print(\"Number of null values in column 1 : \" + str(data.iloc[:, :].isnull().sum()))"
      ],
      "metadata": {
        "colab": {
          "base_uri": "https://localhost:8080/"
        },
        "id": "KhNlavxSPPTC",
        "outputId": "974ea5de-0e4d-4a83-e438-cc5855038063"
      },
      "execution_count": null,
      "outputs": [
        {
          "output_type": "stream",
          "name": "stdout",
          "text": [
            "Number of null values in column 1 : Id           0\n",
            "Week         0\n",
            "V1          48\n",
            "V2          48\n",
            "V3        7100\n",
            "V4        7100\n",
            "V5        7100\n",
            "V6        7100\n",
            "V7        7100\n",
            "V8        7100\n",
            "V9        7100\n",
            "V10       7100\n",
            "V11       7100\n",
            "V12       7100\n",
            "V13       7100\n",
            "V14       7100\n",
            "V15       7100\n",
            "V16       7100\n",
            "V17       7100\n",
            "V18       7100\n",
            "V19       7100\n",
            "V20       7100\n",
            "V21       7100\n",
            "V22       7100\n",
            "P1        2914\n",
            "P2        2914\n",
            "P3        2913\n",
            "P4        2913\n",
            "P5        2914\n",
            "P6        2914\n",
            "P7        2914\n",
            "P8        2913\n",
            "P9        2913\n",
            "P10       2914\n",
            "P11       2914\n",
            "P12       2914\n",
            "P13       2914\n",
            "P14       2849\n",
            "P15       2914\n",
            "P16       2914\n",
            "P17       2913\n",
            "P18       2914\n",
            "P19       2913\n",
            "P20       2914\n",
            "P21       2913\n",
            "P22       2914\n",
            "P23       2913\n",
            "P24       2914\n",
            "P25       2913\n",
            "P26       2914\n",
            "P27       2914\n",
            "target       0\n",
            "dtype: int64\n"
          ]
        }
      ]
    },
    {
      "cell_type": "code",
      "source": [
        "columns = data.columns"
      ],
      "metadata": {
        "id": "2pmagF0gRTFs"
      },
      "execution_count": null,
      "outputs": []
    },
    {
      "cell_type": "code",
      "source": [
        "columns"
      ],
      "metadata": {
        "colab": {
          "base_uri": "https://localhost:8080/"
        },
        "id": "HHziJld6RY8Q",
        "outputId": "1896af02-5e04-4c2b-b149-ae72d3c281d2"
      },
      "execution_count": null,
      "outputs": [
        {
          "output_type": "execute_result",
          "data": {
            "text/plain": [
              "Index(['Id', 'Week', 'V1', 'V2', 'V3', 'V4', 'V5', 'V6', 'V7', 'V8', 'V9', 'V10', 'V11', 'V12', 'V13', 'V14', 'V15', 'V16', 'V17', 'V18', 'V19', 'V20', 'V21', 'V22', 'P1', 'P2', 'P3', 'P4', 'P5', 'P6', 'P7', 'P8', 'P9', 'P10', 'P11', 'P12', 'P13', 'P14', 'P15', 'P16', 'P17', 'P18', 'P19', 'P20', 'P21', 'P22', 'P23', 'P24', 'P25', 'P26', 'P27', 'target'], dtype='object')"
            ]
          },
          "metadata": {},
          "execution_count": 22
        }
      ]
    },
    {
      "cell_type": "code",
      "source": [
        "# data.loc[data['V3'].notnull()].V3.mean()\n",
        "# data[\"V3\"].notnull()"
      ],
      "metadata": {
        "colab": {
          "base_uri": "https://localhost:8080/"
        },
        "id": "0HaiFgZmVDsA",
        "outputId": "6528e233-55bc-401b-ff4e-e1e92bfa0937"
      },
      "execution_count": null,
      "outputs": [
        {
          "output_type": "execute_result",
          "data": {
            "text/plain": [
              "0.04619771727743493"
            ]
          },
          "metadata": {},
          "execution_count": 122
        }
      ]
    },
    {
      "cell_type": "code",
      "source": [
        "for column in columns[:-1]:\n",
        "    mean = data.loc[data[column].notnull()][column].mean()\n",
        "    data[column].fillna(mean, inplace=True)\n",
        "    mean = test_data.loc[test_data[column].notnull()][column].mean()\n",
        "    test_data[column].fillna(mean, inplace=True)"
      ],
      "metadata": {
        "id": "pKEnea_KRar-"
      },
      "execution_count": null,
      "outputs": []
    },
    {
      "cell_type": "code",
      "source": [
        "# data = data.fillna(0)\n",
        "# data"
      ],
      "metadata": {
        "colab": {
          "base_uri": "https://localhost:8080/",
          "height": 487
        },
        "id": "ucedYcsCBQxw",
        "outputId": "65428952-aac9-4a01-e468-cf4383917e56"
      },
      "execution_count": null,
      "outputs": [
        {
          "output_type": "execute_result",
          "data": {
            "text/html": [
              "\n",
              "  <div id=\"df-49175b11-3f7f-41e6-9669-d51fba15e3f7\">\n",
              "    <div class=\"colab-df-container\">\n",
              "      <div>\n",
              "<style scoped>\n",
              "    .dataframe tbody tr th:only-of-type {\n",
              "        vertical-align: middle;\n",
              "    }\n",
              "\n",
              "    .dataframe tbody tr th {\n",
              "        vertical-align: top;\n",
              "    }\n",
              "\n",
              "    .dataframe thead th {\n",
              "        text-align: right;\n",
              "    }\n",
              "</style>\n",
              "<table border=\"1\" class=\"dataframe\">\n",
              "  <thead>\n",
              "    <tr style=\"text-align: right;\">\n",
              "      <th></th>\n",
              "      <th>Id</th>\n",
              "      <th>Week</th>\n",
              "      <th>V1</th>\n",
              "      <th>V2</th>\n",
              "      <th>V3</th>\n",
              "      <th>V4</th>\n",
              "      <th>V5</th>\n",
              "      <th>V6</th>\n",
              "      <th>V7</th>\n",
              "      <th>V8</th>\n",
              "      <th>V9</th>\n",
              "      <th>V10</th>\n",
              "      <th>V11</th>\n",
              "      <th>V12</th>\n",
              "      <th>V13</th>\n",
              "      <th>V14</th>\n",
              "      <th>V15</th>\n",
              "      <th>V16</th>\n",
              "      <th>V17</th>\n",
              "      <th>V18</th>\n",
              "      <th>V19</th>\n",
              "      <th>V20</th>\n",
              "      <th>V21</th>\n",
              "      <th>V22</th>\n",
              "      <th>P1</th>\n",
              "      <th>P2</th>\n",
              "      <th>P3</th>\n",
              "      <th>P4</th>\n",
              "      <th>P5</th>\n",
              "      <th>P6</th>\n",
              "      <th>P7</th>\n",
              "      <th>P8</th>\n",
              "      <th>P9</th>\n",
              "      <th>P10</th>\n",
              "      <th>P11</th>\n",
              "      <th>P12</th>\n",
              "      <th>P13</th>\n",
              "      <th>P14</th>\n",
              "      <th>P15</th>\n",
              "      <th>P16</th>\n",
              "      <th>P17</th>\n",
              "      <th>P18</th>\n",
              "      <th>P19</th>\n",
              "      <th>P20</th>\n",
              "      <th>P21</th>\n",
              "      <th>P22</th>\n",
              "      <th>P23</th>\n",
              "      <th>P24</th>\n",
              "      <th>P25</th>\n",
              "      <th>P26</th>\n",
              "      <th>P27</th>\n",
              "      <th>target</th>\n",
              "    </tr>\n",
              "  </thead>\n",
              "  <tbody>\n",
              "    <tr>\n",
              "      <th>0</th>\n",
              "      <td>-6536978109522202983</td>\n",
              "      <td>0</td>\n",
              "      <td>0.000000</td>\n",
              "      <td>0.0</td>\n",
              "      <td>0.000000</td>\n",
              "      <td>0.011364</td>\n",
              "      <td>0.006579</td>\n",
              "      <td>0.0311</td>\n",
              "      <td>0.013158</td>\n",
              "      <td>0.006579</td>\n",
              "      <td>0.228694</td>\n",
              "      <td>0.000000</td>\n",
              "      <td>0.333073</td>\n",
              "      <td>0.0</td>\n",
              "      <td>0.0</td>\n",
              "      <td>0.019737</td>\n",
              "      <td>0.064203</td>\n",
              "      <td>0.263279</td>\n",
              "      <td>0.011364</td>\n",
              "      <td>0.000000</td>\n",
              "      <td>0.0</td>\n",
              "      <td>0.000000</td>\n",
              "      <td>0.010870</td>\n",
              "      <td>0.0</td>\n",
              "      <td>86.0</td>\n",
              "      <td>24137.0</td>\n",
              "      <td>0.666667</td>\n",
              "      <td>5.205102</td>\n",
              "      <td>77.950000</td>\n",
              "      <td>21.400000</td>\n",
              "      <td>132.666667</td>\n",
              "      <td>0.000000</td>\n",
              "      <td>0.000000</td>\n",
              "      <td>0.166667</td>\n",
              "      <td>0.000000</td>\n",
              "      <td>4.82</td>\n",
              "      <td>0.000000</td>\n",
              "      <td>2440.153846</td>\n",
              "      <td>301.566667</td>\n",
              "      <td>0.500000</td>\n",
              "      <td>12.076923</td>\n",
              "      <td>11038.166667</td>\n",
              "      <td>15.400000</td>\n",
              "      <td>4.82</td>\n",
              "      <td>8.911111</td>\n",
              "      <td>200.0</td>\n",
              "      <td>0.000000</td>\n",
              "      <td>4.820000</td>\n",
              "      <td>0.333333</td>\n",
              "      <td>6712.0</td>\n",
              "      <td>0.333333</td>\n",
              "      <td>0.0</td>\n",
              "    </tr>\n",
              "    <tr>\n",
              "      <th>1</th>\n",
              "      <td>-6536978109522202983</td>\n",
              "      <td>1</td>\n",
              "      <td>0.000000</td>\n",
              "      <td>0.0</td>\n",
              "      <td>0.000000</td>\n",
              "      <td>0.011364</td>\n",
              "      <td>0.006579</td>\n",
              "      <td>0.0311</td>\n",
              "      <td>0.013158</td>\n",
              "      <td>0.006579</td>\n",
              "      <td>0.228694</td>\n",
              "      <td>0.000000</td>\n",
              "      <td>0.333073</td>\n",
              "      <td>0.0</td>\n",
              "      <td>0.0</td>\n",
              "      <td>0.019737</td>\n",
              "      <td>0.064203</td>\n",
              "      <td>0.263279</td>\n",
              "      <td>0.011364</td>\n",
              "      <td>0.000000</td>\n",
              "      <td>0.0</td>\n",
              "      <td>0.000000</td>\n",
              "      <td>0.010870</td>\n",
              "      <td>0.0</td>\n",
              "      <td>64.0</td>\n",
              "      <td>43316.0</td>\n",
              "      <td>0.347826</td>\n",
              "      <td>3.926019</td>\n",
              "      <td>105.650000</td>\n",
              "      <td>10.800000</td>\n",
              "      <td>154.608696</td>\n",
              "      <td>0.000000</td>\n",
              "      <td>0.000000</td>\n",
              "      <td>0.130435</td>\n",
              "      <td>0.130435</td>\n",
              "      <td>4.82</td>\n",
              "      <td>0.130435</td>\n",
              "      <td>1761.000000</td>\n",
              "      <td>487.050000</td>\n",
              "      <td>0.217391</td>\n",
              "      <td>10.518868</td>\n",
              "      <td>14078.000000</td>\n",
              "      <td>17.016667</td>\n",
              "      <td>4.82</td>\n",
              "      <td>8.292754</td>\n",
              "      <td>510.0</td>\n",
              "      <td>0.000000</td>\n",
              "      <td>4.820000</td>\n",
              "      <td>0.652174</td>\n",
              "      <td>4873.0</td>\n",
              "      <td>0.391304</td>\n",
              "      <td>0.0</td>\n",
              "    </tr>\n",
              "    <tr>\n",
              "      <th>2</th>\n",
              "      <td>-6536978109522202983</td>\n",
              "      <td>2</td>\n",
              "      <td>0.000000</td>\n",
              "      <td>0.0</td>\n",
              "      <td>0.000000</td>\n",
              "      <td>0.011364</td>\n",
              "      <td>0.006579</td>\n",
              "      <td>0.0311</td>\n",
              "      <td>0.013158</td>\n",
              "      <td>0.006579</td>\n",
              "      <td>0.228694</td>\n",
              "      <td>0.000000</td>\n",
              "      <td>0.333073</td>\n",
              "      <td>0.0</td>\n",
              "      <td>0.0</td>\n",
              "      <td>0.019737</td>\n",
              "      <td>0.064203</td>\n",
              "      <td>0.263279</td>\n",
              "      <td>0.011364</td>\n",
              "      <td>0.000000</td>\n",
              "      <td>0.0</td>\n",
              "      <td>0.000000</td>\n",
              "      <td>0.010870</td>\n",
              "      <td>0.0</td>\n",
              "      <td>59.0</td>\n",
              "      <td>19961.0</td>\n",
              "      <td>0.500000</td>\n",
              "      <td>3.627770</td>\n",
              "      <td>38.100000</td>\n",
              "      <td>11.766667</td>\n",
              "      <td>122.318182</td>\n",
              "      <td>0.000000</td>\n",
              "      <td>0.000000</td>\n",
              "      <td>0.181818</td>\n",
              "      <td>0.227273</td>\n",
              "      <td>4.82</td>\n",
              "      <td>0.181818</td>\n",
              "      <td>1560.333333</td>\n",
              "      <td>92.733333</td>\n",
              "      <td>0.227273</td>\n",
              "      <td>7.974747</td>\n",
              "      <td>10814.454545</td>\n",
              "      <td>41.100000</td>\n",
              "      <td>4.82</td>\n",
              "      <td>9.753030</td>\n",
              "      <td>190.0</td>\n",
              "      <td>0.000000</td>\n",
              "      <td>4.820000</td>\n",
              "      <td>0.500000</td>\n",
              "      <td>2175.0</td>\n",
              "      <td>0.181818</td>\n",
              "      <td>0.0</td>\n",
              "    </tr>\n",
              "    <tr>\n",
              "      <th>3</th>\n",
              "      <td>-6536978109522202983</td>\n",
              "      <td>3</td>\n",
              "      <td>0.000000</td>\n",
              "      <td>0.0</td>\n",
              "      <td>0.000000</td>\n",
              "      <td>0.011364</td>\n",
              "      <td>0.006579</td>\n",
              "      <td>0.0311</td>\n",
              "      <td>0.013158</td>\n",
              "      <td>0.006579</td>\n",
              "      <td>0.228694</td>\n",
              "      <td>0.000000</td>\n",
              "      <td>0.333073</td>\n",
              "      <td>0.0</td>\n",
              "      <td>0.0</td>\n",
              "      <td>0.019737</td>\n",
              "      <td>0.064203</td>\n",
              "      <td>0.263279</td>\n",
              "      <td>0.011364</td>\n",
              "      <td>0.000000</td>\n",
              "      <td>0.0</td>\n",
              "      <td>0.000000</td>\n",
              "      <td>0.010870</td>\n",
              "      <td>0.0</td>\n",
              "      <td>67.0</td>\n",
              "      <td>40729.0</td>\n",
              "      <td>0.473684</td>\n",
              "      <td>3.348995</td>\n",
              "      <td>86.983333</td>\n",
              "      <td>15.366667</td>\n",
              "      <td>152.368421</td>\n",
              "      <td>0.026316</td>\n",
              "      <td>0.026316</td>\n",
              "      <td>0.105263</td>\n",
              "      <td>0.105263</td>\n",
              "      <td>4.78</td>\n",
              "      <td>0.131579</td>\n",
              "      <td>2028.533333</td>\n",
              "      <td>487.016667</td>\n",
              "      <td>0.263158</td>\n",
              "      <td>17.708333</td>\n",
              "      <td>13842.052632</td>\n",
              "      <td>33.850000</td>\n",
              "      <td>4.82</td>\n",
              "      <td>10.520614</td>\n",
              "      <td>382.0</td>\n",
              "      <td>0.026316</td>\n",
              "      <td>4.814737</td>\n",
              "      <td>0.447368</td>\n",
              "      <td>4093.0</td>\n",
              "      <td>0.394737</td>\n",
              "      <td>0.0</td>\n",
              "    </tr>\n",
              "    <tr>\n",
              "      <th>4</th>\n",
              "      <td>-1744017237843019509</td>\n",
              "      <td>0</td>\n",
              "      <td>0.051282</td>\n",
              "      <td>1.0</td>\n",
              "      <td>0.014363</td>\n",
              "      <td>0.018308</td>\n",
              "      <td>0.037632</td>\n",
              "      <td>0.0000</td>\n",
              "      <td>0.180246</td>\n",
              "      <td>0.103449</td>\n",
              "      <td>0.379082</td>\n",
              "      <td>0.000000</td>\n",
              "      <td>0.020292</td>\n",
              "      <td>0.0</td>\n",
              "      <td>0.0</td>\n",
              "      <td>0.000000</td>\n",
              "      <td>0.000000</td>\n",
              "      <td>0.055489</td>\n",
              "      <td>0.071362</td>\n",
              "      <td>0.071817</td>\n",
              "      <td>0.0</td>\n",
              "      <td>0.047960</td>\n",
              "      <td>0.000000</td>\n",
              "      <td>0.0</td>\n",
              "      <td>47.0</td>\n",
              "      <td>56986.0</td>\n",
              "      <td>0.304348</td>\n",
              "      <td>3.916232</td>\n",
              "      <td>30.466667</td>\n",
              "      <td>5.200000</td>\n",
              "      <td>143.217391</td>\n",
              "      <td>0.000000</td>\n",
              "      <td>0.000000</td>\n",
              "      <td>0.152174</td>\n",
              "      <td>0.152174</td>\n",
              "      <td>4.86</td>\n",
              "      <td>0.347826</td>\n",
              "      <td>1960.274510</td>\n",
              "      <td>105.433333</td>\n",
              "      <td>0.108696</td>\n",
              "      <td>10.819113</td>\n",
              "      <td>10859.086957</td>\n",
              "      <td>31.866667</td>\n",
              "      <td>4.94</td>\n",
              "      <td>9.438406</td>\n",
              "      <td>777.0</td>\n",
              "      <td>0.021739</td>\n",
              "      <td>4.908478</td>\n",
              "      <td>0.673913</td>\n",
              "      <td>1296.0</td>\n",
              "      <td>0.239130</td>\n",
              "      <td>0.0</td>\n",
              "    </tr>\n",
              "    <tr>\n",
              "      <th>...</th>\n",
              "      <td>...</td>\n",
              "      <td>...</td>\n",
              "      <td>...</td>\n",
              "      <td>...</td>\n",
              "      <td>...</td>\n",
              "      <td>...</td>\n",
              "      <td>...</td>\n",
              "      <td>...</td>\n",
              "      <td>...</td>\n",
              "      <td>...</td>\n",
              "      <td>...</td>\n",
              "      <td>...</td>\n",
              "      <td>...</td>\n",
              "      <td>...</td>\n",
              "      <td>...</td>\n",
              "      <td>...</td>\n",
              "      <td>...</td>\n",
              "      <td>...</td>\n",
              "      <td>...</td>\n",
              "      <td>...</td>\n",
              "      <td>...</td>\n",
              "      <td>...</td>\n",
              "      <td>...</td>\n",
              "      <td>...</td>\n",
              "      <td>...</td>\n",
              "      <td>...</td>\n",
              "      <td>...</td>\n",
              "      <td>...</td>\n",
              "      <td>...</td>\n",
              "      <td>...</td>\n",
              "      <td>...</td>\n",
              "      <td>...</td>\n",
              "      <td>...</td>\n",
              "      <td>...</td>\n",
              "      <td>...</td>\n",
              "      <td>...</td>\n",
              "      <td>...</td>\n",
              "      <td>...</td>\n",
              "      <td>...</td>\n",
              "      <td>...</td>\n",
              "      <td>...</td>\n",
              "      <td>...</td>\n",
              "      <td>...</td>\n",
              "      <td>...</td>\n",
              "      <td>...</td>\n",
              "      <td>...</td>\n",
              "      <td>...</td>\n",
              "      <td>...</td>\n",
              "      <td>...</td>\n",
              "      <td>...</td>\n",
              "      <td>...</td>\n",
              "      <td>...</td>\n",
              "    </tr>\n",
              "    <tr>\n",
              "      <th>30855</th>\n",
              "      <td>2010738301694279951</td>\n",
              "      <td>3</td>\n",
              "      <td>0.111111</td>\n",
              "      <td>2.0</td>\n",
              "      <td>0.006173</td>\n",
              "      <td>0.267642</td>\n",
              "      <td>0.000000</td>\n",
              "      <td>0.0000</td>\n",
              "      <td>0.192127</td>\n",
              "      <td>0.000000</td>\n",
              "      <td>0.018545</td>\n",
              "      <td>0.005747</td>\n",
              "      <td>0.289156</td>\n",
              "      <td>0.0</td>\n",
              "      <td>0.0</td>\n",
              "      <td>0.008333</td>\n",
              "      <td>0.019045</td>\n",
              "      <td>0.151087</td>\n",
              "      <td>0.000000</td>\n",
              "      <td>0.009259</td>\n",
              "      <td>0.0</td>\n",
              "      <td>0.023627</td>\n",
              "      <td>0.009259</td>\n",
              "      <td>0.0</td>\n",
              "      <td>51.0</td>\n",
              "      <td>27623.0</td>\n",
              "      <td>0.395062</td>\n",
              "      <td>2.587916</td>\n",
              "      <td>33.266667</td>\n",
              "      <td>7.766667</td>\n",
              "      <td>145.098765</td>\n",
              "      <td>0.037037</td>\n",
              "      <td>0.012346</td>\n",
              "      <td>0.123457</td>\n",
              "      <td>0.160494</td>\n",
              "      <td>4.96</td>\n",
              "      <td>0.234568</td>\n",
              "      <td>1196.927835</td>\n",
              "      <td>89.650000</td>\n",
              "      <td>0.135802</td>\n",
              "      <td>6.394737</td>\n",
              "      <td>10236.172840</td>\n",
              "      <td>24.100000</td>\n",
              "      <td>4.97</td>\n",
              "      <td>8.271399</td>\n",
              "      <td>406.0</td>\n",
              "      <td>0.000000</td>\n",
              "      <td>4.966790</td>\n",
              "      <td>0.555556</td>\n",
              "      <td>961.0</td>\n",
              "      <td>0.345679</td>\n",
              "      <td>0.0</td>\n",
              "    </tr>\n",
              "    <tr>\n",
              "      <th>30856</th>\n",
              "      <td>8802977523104348852</td>\n",
              "      <td>0</td>\n",
              "      <td>0.032258</td>\n",
              "      <td>1.0</td>\n",
              "      <td>0.000000</td>\n",
              "      <td>0.000000</td>\n",
              "      <td>0.000000</td>\n",
              "      <td>0.0000</td>\n",
              "      <td>0.000000</td>\n",
              "      <td>0.000000</td>\n",
              "      <td>0.000000</td>\n",
              "      <td>0.000000</td>\n",
              "      <td>0.000000</td>\n",
              "      <td>0.0</td>\n",
              "      <td>0.0</td>\n",
              "      <td>0.000000</td>\n",
              "      <td>0.000000</td>\n",
              "      <td>0.000000</td>\n",
              "      <td>0.000000</td>\n",
              "      <td>0.000000</td>\n",
              "      <td>0.0</td>\n",
              "      <td>0.000000</td>\n",
              "      <td>0.000000</td>\n",
              "      <td>0.0</td>\n",
              "      <td>80.0</td>\n",
              "      <td>18324.0</td>\n",
              "      <td>0.941176</td>\n",
              "      <td>2.772570</td>\n",
              "      <td>52.750000</td>\n",
              "      <td>23.716667</td>\n",
              "      <td>132.058824</td>\n",
              "      <td>0.000000</td>\n",
              "      <td>0.000000</td>\n",
              "      <td>0.176471</td>\n",
              "      <td>0.176471</td>\n",
              "      <td>4.98</td>\n",
              "      <td>0.058824</td>\n",
              "      <td>1856.666667</td>\n",
              "      <td>96.833333</td>\n",
              "      <td>0.352941</td>\n",
              "      <td>6.177024</td>\n",
              "      <td>9226.941176</td>\n",
              "      <td>19.566667</td>\n",
              "      <td>4.98</td>\n",
              "      <td>11.681373</td>\n",
              "      <td>234.0</td>\n",
              "      <td>0.000000</td>\n",
              "      <td>4.980000</td>\n",
              "      <td>0.058824</td>\n",
              "      <td>3414.0</td>\n",
              "      <td>0.235294</td>\n",
              "      <td>1.0</td>\n",
              "    </tr>\n",
              "    <tr>\n",
              "      <th>30857</th>\n",
              "      <td>8802977523104348852</td>\n",
              "      <td>1</td>\n",
              "      <td>0.032258</td>\n",
              "      <td>1.0</td>\n",
              "      <td>0.000000</td>\n",
              "      <td>0.000000</td>\n",
              "      <td>0.000000</td>\n",
              "      <td>0.0000</td>\n",
              "      <td>0.000000</td>\n",
              "      <td>0.000000</td>\n",
              "      <td>0.000000</td>\n",
              "      <td>0.000000</td>\n",
              "      <td>0.000000</td>\n",
              "      <td>0.0</td>\n",
              "      <td>0.0</td>\n",
              "      <td>0.000000</td>\n",
              "      <td>0.000000</td>\n",
              "      <td>0.000000</td>\n",
              "      <td>0.000000</td>\n",
              "      <td>0.000000</td>\n",
              "      <td>0.0</td>\n",
              "      <td>0.000000</td>\n",
              "      <td>0.000000</td>\n",
              "      <td>0.0</td>\n",
              "      <td>171.0</td>\n",
              "      <td>16426.0</td>\n",
              "      <td>1.000000</td>\n",
              "      <td>2.859619</td>\n",
              "      <td>69.083333</td>\n",
              "      <td>69.083333</td>\n",
              "      <td>171.000000</td>\n",
              "      <td>0.000000</td>\n",
              "      <td>0.000000</td>\n",
              "      <td>0.000000</td>\n",
              "      <td>0.000000</td>\n",
              "      <td>4.99</td>\n",
              "      <td>0.000000</td>\n",
              "      <td>1650.000000</td>\n",
              "      <td>69.083333</td>\n",
              "      <td>0.000000</td>\n",
              "      <td>2.859619</td>\n",
              "      <td>16426.000000</td>\n",
              "      <td>9.616667</td>\n",
              "      <td>4.99</td>\n",
              "      <td>9.616667</td>\n",
              "      <td>171.0</td>\n",
              "      <td>0.000000</td>\n",
              "      <td>4.990000</td>\n",
              "      <td>0.000000</td>\n",
              "      <td>16426.0</td>\n",
              "      <td>1.000000</td>\n",
              "      <td>1.0</td>\n",
              "    </tr>\n",
              "    <tr>\n",
              "      <th>30858</th>\n",
              "      <td>8802977523104348852</td>\n",
              "      <td>2</td>\n",
              "      <td>0.032258</td>\n",
              "      <td>1.0</td>\n",
              "      <td>0.000000</td>\n",
              "      <td>0.000000</td>\n",
              "      <td>0.000000</td>\n",
              "      <td>0.0000</td>\n",
              "      <td>0.000000</td>\n",
              "      <td>0.000000</td>\n",
              "      <td>0.000000</td>\n",
              "      <td>0.000000</td>\n",
              "      <td>0.000000</td>\n",
              "      <td>0.0</td>\n",
              "      <td>0.0</td>\n",
              "      <td>0.000000</td>\n",
              "      <td>0.000000</td>\n",
              "      <td>0.000000</td>\n",
              "      <td>0.000000</td>\n",
              "      <td>0.000000</td>\n",
              "      <td>0.0</td>\n",
              "      <td>0.000000</td>\n",
              "      <td>0.000000</td>\n",
              "      <td>0.0</td>\n",
              "      <td>94.0</td>\n",
              "      <td>18247.0</td>\n",
              "      <td>0.750000</td>\n",
              "      <td>2.197785</td>\n",
              "      <td>55.216667</td>\n",
              "      <td>41.200000</td>\n",
              "      <td>160.000000</td>\n",
              "      <td>0.000000</td>\n",
              "      <td>0.000000</td>\n",
              "      <td>0.000000</td>\n",
              "      <td>0.250000</td>\n",
              "      <td>4.99</td>\n",
              "      <td>0.000000</td>\n",
              "      <td>2190.750000</td>\n",
              "      <td>71.950000</td>\n",
              "      <td>0.250000</td>\n",
              "      <td>3.478261</td>\n",
              "      <td>13744.000000</td>\n",
              "      <td>26.683333</td>\n",
              "      <td>4.99</td>\n",
              "      <td>17.962500</td>\n",
              "      <td>220.0</td>\n",
              "      <td>0.000000</td>\n",
              "      <td>4.990000</td>\n",
              "      <td>0.250000</td>\n",
              "      <td>4588.0</td>\n",
              "      <td>0.500000</td>\n",
              "      <td>1.0</td>\n",
              "    </tr>\n",
              "    <tr>\n",
              "      <th>30859</th>\n",
              "      <td>8802977523104348852</td>\n",
              "      <td>3</td>\n",
              "      <td>0.032258</td>\n",
              "      <td>1.0</td>\n",
              "      <td>0.000000</td>\n",
              "      <td>0.000000</td>\n",
              "      <td>0.000000</td>\n",
              "      <td>0.0000</td>\n",
              "      <td>0.000000</td>\n",
              "      <td>0.000000</td>\n",
              "      <td>0.000000</td>\n",
              "      <td>0.000000</td>\n",
              "      <td>0.000000</td>\n",
              "      <td>0.0</td>\n",
              "      <td>0.0</td>\n",
              "      <td>0.000000</td>\n",
              "      <td>0.000000</td>\n",
              "      <td>0.000000</td>\n",
              "      <td>0.000000</td>\n",
              "      <td>0.000000</td>\n",
              "      <td>0.0</td>\n",
              "      <td>0.000000</td>\n",
              "      <td>0.000000</td>\n",
              "      <td>0.0</td>\n",
              "      <td>45.0</td>\n",
              "      <td>35991.0</td>\n",
              "      <td>1.000000</td>\n",
              "      <td>1.250000</td>\n",
              "      <td>29.116667</td>\n",
              "      <td>7.000000</td>\n",
              "      <td>147.000000</td>\n",
              "      <td>0.000000</td>\n",
              "      <td>0.000000</td>\n",
              "      <td>0.000000</td>\n",
              "      <td>0.000000</td>\n",
              "      <td>4.99</td>\n",
              "      <td>0.000000</td>\n",
              "      <td>900.000000</td>\n",
              "      <td>487.066667</td>\n",
              "      <td>0.000000</td>\n",
              "      <td>10.000000</td>\n",
              "      <td>8080.000000</td>\n",
              "      <td>15.733333</td>\n",
              "      <td>4.99</td>\n",
              "      <td>9.350000</td>\n",
              "      <td>200.0</td>\n",
              "      <td>0.000000</td>\n",
              "      <td>5.000000</td>\n",
              "      <td>0.000000</td>\n",
              "      <td>0.0</td>\n",
              "      <td>0.000000</td>\n",
              "      <td>1.0</td>\n",
              "    </tr>\n",
              "  </tbody>\n",
              "</table>\n",
              "<p>30860 rows × 52 columns</p>\n",
              "</div>\n",
              "      <button class=\"colab-df-convert\" onclick=\"convertToInteractive('df-49175b11-3f7f-41e6-9669-d51fba15e3f7')\"\n",
              "              title=\"Convert this dataframe to an interactive table.\"\n",
              "              style=\"display:none;\">\n",
              "        \n",
              "  <svg xmlns=\"http://www.w3.org/2000/svg\" height=\"24px\"viewBox=\"0 0 24 24\"\n",
              "       width=\"24px\">\n",
              "    <path d=\"M0 0h24v24H0V0z\" fill=\"none\"/>\n",
              "    <path d=\"M18.56 5.44l.94 2.06.94-2.06 2.06-.94-2.06-.94-.94-2.06-.94 2.06-2.06.94zm-11 1L8.5 8.5l.94-2.06 2.06-.94-2.06-.94L8.5 2.5l-.94 2.06-2.06.94zm10 10l.94 2.06.94-2.06 2.06-.94-2.06-.94-.94-2.06-.94 2.06-2.06.94z\"/><path d=\"M17.41 7.96l-1.37-1.37c-.4-.4-.92-.59-1.43-.59-.52 0-1.04.2-1.43.59L10.3 9.45l-7.72 7.72c-.78.78-.78 2.05 0 2.83L4 21.41c.39.39.9.59 1.41.59.51 0 1.02-.2 1.41-.59l7.78-7.78 2.81-2.81c.8-.78.8-2.07 0-2.86zM5.41 20L4 18.59l7.72-7.72 1.47 1.35L5.41 20z\"/>\n",
              "  </svg>\n",
              "      </button>\n",
              "      \n",
              "  <style>\n",
              "    .colab-df-container {\n",
              "      display:flex;\n",
              "      flex-wrap:wrap;\n",
              "      gap: 12px;\n",
              "    }\n",
              "\n",
              "    .colab-df-convert {\n",
              "      background-color: #E8F0FE;\n",
              "      border: none;\n",
              "      border-radius: 50%;\n",
              "      cursor: pointer;\n",
              "      display: none;\n",
              "      fill: #1967D2;\n",
              "      height: 32px;\n",
              "      padding: 0 0 0 0;\n",
              "      width: 32px;\n",
              "    }\n",
              "\n",
              "    .colab-df-convert:hover {\n",
              "      background-color: #E2EBFA;\n",
              "      box-shadow: 0px 1px 2px rgba(60, 64, 67, 0.3), 0px 1px 3px 1px rgba(60, 64, 67, 0.15);\n",
              "      fill: #174EA6;\n",
              "    }\n",
              "\n",
              "    [theme=dark] .colab-df-convert {\n",
              "      background-color: #3B4455;\n",
              "      fill: #D2E3FC;\n",
              "    }\n",
              "\n",
              "    [theme=dark] .colab-df-convert:hover {\n",
              "      background-color: #434B5C;\n",
              "      box-shadow: 0px 1px 3px 1px rgba(0, 0, 0, 0.15);\n",
              "      filter: drop-shadow(0px 1px 2px rgba(0, 0, 0, 0.3));\n",
              "      fill: #FFFFFF;\n",
              "    }\n",
              "  </style>\n",
              "\n",
              "      <script>\n",
              "        const buttonEl =\n",
              "          document.querySelector('#df-49175b11-3f7f-41e6-9669-d51fba15e3f7 button.colab-df-convert');\n",
              "        buttonEl.style.display =\n",
              "          google.colab.kernel.accessAllowed ? 'block' : 'none';\n",
              "\n",
              "        async function convertToInteractive(key) {\n",
              "          const element = document.querySelector('#df-49175b11-3f7f-41e6-9669-d51fba15e3f7');\n",
              "          const dataTable =\n",
              "            await google.colab.kernel.invokeFunction('convertToInteractive',\n",
              "                                                     [key], {});\n",
              "          if (!dataTable) return;\n",
              "\n",
              "          const docLinkHtml = 'Like what you see? Visit the ' +\n",
              "            '<a target=\"_blank\" href=https://colab.research.google.com/notebooks/data_table.ipynb>data table notebook</a>'\n",
              "            + ' to learn more about interactive tables.';\n",
              "          element.innerHTML = '';\n",
              "          dataTable['output_type'] = 'display_data';\n",
              "          await google.colab.output.renderOutput(dataTable, element);\n",
              "          const docLink = document.createElement('div');\n",
              "          docLink.innerHTML = docLinkHtml;\n",
              "          element.appendChild(docLink);\n",
              "        }\n",
              "      </script>\n",
              "    </div>\n",
              "  </div>\n",
              "  "
            ],
            "text/plain": [
              "                        Id  Week        V1   V2        V3        V4        V5      V6        V7        V8        V9       V10       V11  V12  V13       V14       V15       V16       V17       V18  V19       V20       V21  V22     P1       P2        P3        P4          P5         P6          P7        P8        P9       P10       P11   P12       P13          P14         P15       P16        P17           P18        P19   P20        P21    P22       P23       P24       P25      P26       P27  target\n",
              "0     -6536978109522202983     0  0.000000  0.0  0.000000  0.011364  0.006579  0.0311  0.013158  0.006579  0.228694  0.000000  0.333073  0.0  0.0  0.019737  0.064203  0.263279  0.011364  0.000000  0.0  0.000000  0.010870  0.0   86.0  24137.0  0.666667  5.205102   77.950000  21.400000  132.666667  0.000000  0.000000  0.166667  0.000000  4.82  0.000000  2440.153846  301.566667  0.500000  12.076923  11038.166667  15.400000  4.82   8.911111  200.0  0.000000  4.820000  0.333333   6712.0  0.333333     0.0\n",
              "1     -6536978109522202983     1  0.000000  0.0  0.000000  0.011364  0.006579  0.0311  0.013158  0.006579  0.228694  0.000000  0.333073  0.0  0.0  0.019737  0.064203  0.263279  0.011364  0.000000  0.0  0.000000  0.010870  0.0   64.0  43316.0  0.347826  3.926019  105.650000  10.800000  154.608696  0.000000  0.000000  0.130435  0.130435  4.82  0.130435  1761.000000  487.050000  0.217391  10.518868  14078.000000  17.016667  4.82   8.292754  510.0  0.000000  4.820000  0.652174   4873.0  0.391304     0.0\n",
              "2     -6536978109522202983     2  0.000000  0.0  0.000000  0.011364  0.006579  0.0311  0.013158  0.006579  0.228694  0.000000  0.333073  0.0  0.0  0.019737  0.064203  0.263279  0.011364  0.000000  0.0  0.000000  0.010870  0.0   59.0  19961.0  0.500000  3.627770   38.100000  11.766667  122.318182  0.000000  0.000000  0.181818  0.227273  4.82  0.181818  1560.333333   92.733333  0.227273   7.974747  10814.454545  41.100000  4.82   9.753030  190.0  0.000000  4.820000  0.500000   2175.0  0.181818     0.0\n",
              "3     -6536978109522202983     3  0.000000  0.0  0.000000  0.011364  0.006579  0.0311  0.013158  0.006579  0.228694  0.000000  0.333073  0.0  0.0  0.019737  0.064203  0.263279  0.011364  0.000000  0.0  0.000000  0.010870  0.0   67.0  40729.0  0.473684  3.348995   86.983333  15.366667  152.368421  0.026316  0.026316  0.105263  0.105263  4.78  0.131579  2028.533333  487.016667  0.263158  17.708333  13842.052632  33.850000  4.82  10.520614  382.0  0.026316  4.814737  0.447368   4093.0  0.394737     0.0\n",
              "4     -1744017237843019509     0  0.051282  1.0  0.014363  0.018308  0.037632  0.0000  0.180246  0.103449  0.379082  0.000000  0.020292  0.0  0.0  0.000000  0.000000  0.055489  0.071362  0.071817  0.0  0.047960  0.000000  0.0   47.0  56986.0  0.304348  3.916232   30.466667   5.200000  143.217391  0.000000  0.000000  0.152174  0.152174  4.86  0.347826  1960.274510  105.433333  0.108696  10.819113  10859.086957  31.866667  4.94   9.438406  777.0  0.021739  4.908478  0.673913   1296.0  0.239130     0.0\n",
              "...                    ...   ...       ...  ...       ...       ...       ...     ...       ...       ...       ...       ...       ...  ...  ...       ...       ...       ...       ...       ...  ...       ...       ...  ...    ...      ...       ...       ...         ...        ...         ...       ...       ...       ...       ...   ...       ...          ...         ...       ...        ...           ...        ...   ...        ...    ...       ...       ...       ...      ...       ...     ...\n",
              "30855  2010738301694279951     3  0.111111  2.0  0.006173  0.267642  0.000000  0.0000  0.192127  0.000000  0.018545  0.005747  0.289156  0.0  0.0  0.008333  0.019045  0.151087  0.000000  0.009259  0.0  0.023627  0.009259  0.0   51.0  27623.0  0.395062  2.587916   33.266667   7.766667  145.098765  0.037037  0.012346  0.123457  0.160494  4.96  0.234568  1196.927835   89.650000  0.135802   6.394737  10236.172840  24.100000  4.97   8.271399  406.0  0.000000  4.966790  0.555556    961.0  0.345679     0.0\n",
              "30856  8802977523104348852     0  0.032258  1.0  0.000000  0.000000  0.000000  0.0000  0.000000  0.000000  0.000000  0.000000  0.000000  0.0  0.0  0.000000  0.000000  0.000000  0.000000  0.000000  0.0  0.000000  0.000000  0.0   80.0  18324.0  0.941176  2.772570   52.750000  23.716667  132.058824  0.000000  0.000000  0.176471  0.176471  4.98  0.058824  1856.666667   96.833333  0.352941   6.177024   9226.941176  19.566667  4.98  11.681373  234.0  0.000000  4.980000  0.058824   3414.0  0.235294     1.0\n",
              "30857  8802977523104348852     1  0.032258  1.0  0.000000  0.000000  0.000000  0.0000  0.000000  0.000000  0.000000  0.000000  0.000000  0.0  0.0  0.000000  0.000000  0.000000  0.000000  0.000000  0.0  0.000000  0.000000  0.0  171.0  16426.0  1.000000  2.859619   69.083333  69.083333  171.000000  0.000000  0.000000  0.000000  0.000000  4.99  0.000000  1650.000000   69.083333  0.000000   2.859619  16426.000000   9.616667  4.99   9.616667  171.0  0.000000  4.990000  0.000000  16426.0  1.000000     1.0\n",
              "30858  8802977523104348852     2  0.032258  1.0  0.000000  0.000000  0.000000  0.0000  0.000000  0.000000  0.000000  0.000000  0.000000  0.0  0.0  0.000000  0.000000  0.000000  0.000000  0.000000  0.0  0.000000  0.000000  0.0   94.0  18247.0  0.750000  2.197785   55.216667  41.200000  160.000000  0.000000  0.000000  0.000000  0.250000  4.99  0.000000  2190.750000   71.950000  0.250000   3.478261  13744.000000  26.683333  4.99  17.962500  220.0  0.000000  4.990000  0.250000   4588.0  0.500000     1.0\n",
              "30859  8802977523104348852     3  0.032258  1.0  0.000000  0.000000  0.000000  0.0000  0.000000  0.000000  0.000000  0.000000  0.000000  0.0  0.0  0.000000  0.000000  0.000000  0.000000  0.000000  0.0  0.000000  0.000000  0.0   45.0  35991.0  1.000000  1.250000   29.116667   7.000000  147.000000  0.000000  0.000000  0.000000  0.000000  4.99  0.000000   900.000000  487.066667  0.000000  10.000000   8080.000000  15.733333  4.99   9.350000  200.0  0.000000  5.000000  0.000000      0.0  0.000000     1.0\n",
              "\n",
              "[30860 rows x 52 columns]"
            ]
          },
          "metadata": {},
          "execution_count": 78
        }
      ]
    },
    {
      "cell_type": "code",
      "source": [
        "y = data.target\n",
        "X = data.drop([\"Id\", \"Week\", \"target\"], axis=1)\n"
      ],
      "metadata": {
        "id": "LZCEcEDgDTDj"
      },
      "execution_count": null,
      "outputs": []
    },
    {
      "cell_type": "code",
      "source": [
        "X = np.array(X)"
      ],
      "metadata": {
        "id": "HLL0c6bND9eH"
      },
      "execution_count": null,
      "outputs": []
    },
    {
      "cell_type": "code",
      "source": [
        "X.shape"
      ],
      "metadata": {
        "colab": {
          "base_uri": "https://localhost:8080/"
        },
        "id": "azPCgGfuEAGs",
        "outputId": "e91c6ab3-5ced-4125-952c-eadcb39903fb"
      },
      "execution_count": null,
      "outputs": [
        {
          "output_type": "execute_result",
          "data": {
            "text/plain": [
              "(23760, 49)"
            ]
          },
          "metadata": {},
          "execution_count": 201
        }
      ]
    },
    {
      "cell_type": "code",
      "source": [
        "X = X.reshape(int(X.shape[0]/4), 4, 49)"
      ],
      "metadata": {
        "id": "nJ4mXLFYEOao"
      },
      "execution_count": null,
      "outputs": []
    },
    {
      "cell_type": "code",
      "source": [
        "real_y = []\n",
        "for i in range(0, len(y), 4):\n",
        "    real_y.append(y[i])"
      ],
      "metadata": {
        "id": "pOcvN8HQEm4P"
      },
      "execution_count": null,
      "outputs": []
    },
    {
      "cell_type": "code",
      "source": [
        "y = np.array(real_y)"
      ],
      "metadata": {
        "id": "RkUbCnqbEqCw"
      },
      "execution_count": null,
      "outputs": []
    },
    {
      "cell_type": "code",
      "source": [
        "test_size = 0.2\n",
        "X_train, X_test, y_train, y_test = train_test_split(X, y, test_size=test_size, random_state=42, shuffle=True)"
      ],
      "metadata": {
        "id": "yCC7QeUbE6cd"
      },
      "execution_count": null,
      "outputs": []
    },
    {
      "cell_type": "code",
      "source": [
        "y_train = np.asarray(y_train).astype('float32').reshape((-1,1))\n",
        "y_test = np.asarray(y_test).astype('float32').reshape((-1,1))"
      ],
      "metadata": {
        "id": "2W94eMQOGXFF"
      },
      "execution_count": null,
      "outputs": []
    },
    {
      "cell_type": "code",
      "source": [
        "model = tf.keras.Sequential([\n",
        "    tf.keras.layers.GRU(144, activation='tanh', return_sequences=True, input_shape=(4, X_train.shape[2])),\n",
        "    tf.keras.layers.GRU(86, activation='tanh', return_sequences=True),\n",
        "    tf.keras.layers.GRU(86, activation='tanh'),\n",
        "    tf.keras.layers.Dense(64, activation='relu'),\n",
        "    tf.keras.layers.Dropout(0.2),\n",
        "    tf.keras.layers.Dense(32, activation='relu'),\n",
        "    tf.keras.layers.Dense(16, activation='relu'),\n",
        "    tf.keras.layers.Dense(1, activation='sigmoid')\n",
        "    \n",
        "])\n",
        "opt = tf.keras.optimizers.Adam(learning_rate=0.00001)\n",
        "model.compile(optimizer=opt, loss='binary_crossentropy', metrics=[\"accuracy\"])\n",
        "\n",
        "early_stopping = tf.keras.callbacks.EarlyStopping(\n",
        "    min_delta = 0.0001,\n",
        "    patience = 15,\n",
        "    restore_best_weights = True\n",
        ")\n",
        "\n",
        "history = model.fit(X_train, y_train, validation_split=0.3, callbacks=[early_stopping], epochs=1000, verbose=2)"
      ],
      "metadata": {
        "colab": {
          "base_uri": "https://localhost:8080/"
        },
        "id": "QS_P2ph0FpWF",
        "outputId": "9207c058-9f66-4976-f645-ff7765af5c32"
      },
      "execution_count": null,
      "outputs": [
        {
          "output_type": "stream",
          "name": "stdout",
          "text": [
            "Epoch 1/1000\n",
            "104/104 - 7s - loss: 0.5451 - accuracy: 0.9152 - val_loss: 0.4741 - val_accuracy: 0.9004 - 7s/epoch - 64ms/step\n",
            "Epoch 2/1000\n",
            "104/104 - 1s - loss: 0.4085 - accuracy: 0.9158 - val_loss: 0.3670 - val_accuracy: 0.9004 - 858ms/epoch - 8ms/step\n",
            "Epoch 3/1000\n",
            "104/104 - 1s - loss: 0.3240 - accuracy: 0.9158 - val_loss: 0.3166 - val_accuracy: 0.9004 - 817ms/epoch - 8ms/step\n",
            "Epoch 4/1000\n",
            "104/104 - 1s - loss: 0.2848 - accuracy: 0.9158 - val_loss: 0.2951 - val_accuracy: 0.9004 - 811ms/epoch - 8ms/step\n",
            "Epoch 5/1000\n",
            "104/104 - 1s - loss: 0.2637 - accuracy: 0.9158 - val_loss: 0.2846 - val_accuracy: 0.9004 - 814ms/epoch - 8ms/step\n",
            "Epoch 6/1000\n",
            "104/104 - 1s - loss: 0.2505 - accuracy: 0.9158 - val_loss: 0.2759 - val_accuracy: 0.9004 - 821ms/epoch - 8ms/step\n",
            "Epoch 7/1000\n",
            "104/104 - 1s - loss: 0.2401 - accuracy: 0.9158 - val_loss: 0.2676 - val_accuracy: 0.9004 - 814ms/epoch - 8ms/step\n",
            "Epoch 8/1000\n",
            "104/104 - 1s - loss: 0.2325 - accuracy: 0.9158 - val_loss: 0.2589 - val_accuracy: 0.9004 - 810ms/epoch - 8ms/step\n",
            "Epoch 9/1000\n",
            "104/104 - 1s - loss: 0.2234 - accuracy: 0.9158 - val_loss: 0.2501 - val_accuracy: 0.9004 - 828ms/epoch - 8ms/step\n",
            "Epoch 10/1000\n",
            "104/104 - 1s - loss: 0.2135 - accuracy: 0.9158 - val_loss: 0.2423 - val_accuracy: 0.9004 - 824ms/epoch - 8ms/step\n",
            "Epoch 11/1000\n",
            "104/104 - 1s - loss: 0.2055 - accuracy: 0.9158 - val_loss: 0.2353 - val_accuracy: 0.9004 - 816ms/epoch - 8ms/step\n",
            "Epoch 12/1000\n",
            "104/104 - 1s - loss: 0.1979 - accuracy: 0.9158 - val_loss: 0.2298 - val_accuracy: 0.9004 - 825ms/epoch - 8ms/step\n",
            "Epoch 13/1000\n",
            "104/104 - 1s - loss: 0.1921 - accuracy: 0.9170 - val_loss: 0.2249 - val_accuracy: 0.9067 - 830ms/epoch - 8ms/step\n",
            "Epoch 14/1000\n",
            "104/104 - 1s - loss: 0.1879 - accuracy: 0.9215 - val_loss: 0.2215 - val_accuracy: 0.9109 - 811ms/epoch - 8ms/step\n",
            "Epoch 15/1000\n",
            "104/104 - 1s - loss: 0.1846 - accuracy: 0.9257 - val_loss: 0.2204 - val_accuracy: 0.9180 - 829ms/epoch - 8ms/step\n",
            "Epoch 16/1000\n",
            "104/104 - 1s - loss: 0.1828 - accuracy: 0.9269 - val_loss: 0.2170 - val_accuracy: 0.9208 - 831ms/epoch - 8ms/step\n",
            "Epoch 17/1000\n",
            "104/104 - 1s - loss: 0.1798 - accuracy: 0.9321 - val_loss: 0.2175 - val_accuracy: 0.9215 - 830ms/epoch - 8ms/step\n",
            "Epoch 18/1000\n",
            "104/104 - 1s - loss: 0.1781 - accuracy: 0.9345 - val_loss: 0.2167 - val_accuracy: 0.9208 - 837ms/epoch - 8ms/step\n",
            "Epoch 19/1000\n",
            "104/104 - 1s - loss: 0.1754 - accuracy: 0.9378 - val_loss: 0.2159 - val_accuracy: 0.9229 - 831ms/epoch - 8ms/step\n",
            "Epoch 20/1000\n",
            "104/104 - 1s - loss: 0.1738 - accuracy: 0.9375 - val_loss: 0.2134 - val_accuracy: 0.9229 - 837ms/epoch - 8ms/step\n",
            "Epoch 21/1000\n",
            "104/104 - 1s - loss: 0.1736 - accuracy: 0.9369 - val_loss: 0.2135 - val_accuracy: 0.9222 - 847ms/epoch - 8ms/step\n",
            "Epoch 22/1000\n",
            "104/104 - 1s - loss: 0.1753 - accuracy: 0.9381 - val_loss: 0.2120 - val_accuracy: 0.9222 - 825ms/epoch - 8ms/step\n",
            "Epoch 23/1000\n",
            "104/104 - 1s - loss: 0.1735 - accuracy: 0.9408 - val_loss: 0.2130 - val_accuracy: 0.9229 - 803ms/epoch - 8ms/step\n",
            "Epoch 24/1000\n",
            "104/104 - 1s - loss: 0.1720 - accuracy: 0.9396 - val_loss: 0.2121 - val_accuracy: 0.9215 - 807ms/epoch - 8ms/step\n",
            "Epoch 25/1000\n",
            "104/104 - 1s - loss: 0.1718 - accuracy: 0.9393 - val_loss: 0.2119 - val_accuracy: 0.9208 - 821ms/epoch - 8ms/step\n",
            "Epoch 26/1000\n",
            "104/104 - 1s - loss: 0.1701 - accuracy: 0.9372 - val_loss: 0.2118 - val_accuracy: 0.9201 - 827ms/epoch - 8ms/step\n",
            "Epoch 27/1000\n",
            "104/104 - 1s - loss: 0.1713 - accuracy: 0.9402 - val_loss: 0.2120 - val_accuracy: 0.9208 - 837ms/epoch - 8ms/step\n",
            "Epoch 28/1000\n",
            "104/104 - 1s - loss: 0.1704 - accuracy: 0.9408 - val_loss: 0.2097 - val_accuracy: 0.9187 - 803ms/epoch - 8ms/step\n",
            "Epoch 29/1000\n",
            "104/104 - 1s - loss: 0.1699 - accuracy: 0.9393 - val_loss: 0.2110 - val_accuracy: 0.9194 - 823ms/epoch - 8ms/step\n",
            "Epoch 30/1000\n",
            "104/104 - 1s - loss: 0.1691 - accuracy: 0.9411 - val_loss: 0.2104 - val_accuracy: 0.9194 - 854ms/epoch - 8ms/step\n",
            "Epoch 31/1000\n",
            "104/104 - 1s - loss: 0.1703 - accuracy: 0.9408 - val_loss: 0.2113 - val_accuracy: 0.9208 - 1s/epoch - 10ms/step\n",
            "Epoch 32/1000\n",
            "104/104 - 1s - loss: 0.1671 - accuracy: 0.9435 - val_loss: 0.2093 - val_accuracy: 0.9208 - 876ms/epoch - 8ms/step\n",
            "Epoch 33/1000\n",
            "104/104 - 1s - loss: 0.1687 - accuracy: 0.9390 - val_loss: 0.2105 - val_accuracy: 0.9215 - 901ms/epoch - 9ms/step\n",
            "Epoch 34/1000\n",
            "104/104 - 1s - loss: 0.1691 - accuracy: 0.9408 - val_loss: 0.2083 - val_accuracy: 0.9201 - 941ms/epoch - 9ms/step\n",
            "Epoch 35/1000\n",
            "104/104 - 1s - loss: 0.1681 - accuracy: 0.9417 - val_loss: 0.2095 - val_accuracy: 0.9201 - 849ms/epoch - 8ms/step\n",
            "Epoch 36/1000\n",
            "104/104 - 1s - loss: 0.1678 - accuracy: 0.9411 - val_loss: 0.2091 - val_accuracy: 0.9215 - 802ms/epoch - 8ms/step\n",
            "Epoch 37/1000\n",
            "104/104 - 1s - loss: 0.1668 - accuracy: 0.9444 - val_loss: 0.2093 - val_accuracy: 0.9229 - 843ms/epoch - 8ms/step\n",
            "Epoch 38/1000\n",
            "104/104 - 1s - loss: 0.1651 - accuracy: 0.9420 - val_loss: 0.2078 - val_accuracy: 0.9215 - 850ms/epoch - 8ms/step\n",
            "Epoch 39/1000\n",
            "104/104 - 1s - loss: 0.1668 - accuracy: 0.9435 - val_loss: 0.2086 - val_accuracy: 0.9215 - 854ms/epoch - 8ms/step\n",
            "Epoch 40/1000\n",
            "104/104 - 1s - loss: 0.1671 - accuracy: 0.9429 - val_loss: 0.2078 - val_accuracy: 0.9201 - 833ms/epoch - 8ms/step\n",
            "Epoch 41/1000\n",
            "104/104 - 1s - loss: 0.1642 - accuracy: 0.9420 - val_loss: 0.2082 - val_accuracy: 0.9222 - 841ms/epoch - 8ms/step\n",
            "Epoch 42/1000\n",
            "104/104 - 1s - loss: 0.1666 - accuracy: 0.9423 - val_loss: 0.2093 - val_accuracy: 0.9215 - 844ms/epoch - 8ms/step\n",
            "Epoch 43/1000\n",
            "104/104 - 1s - loss: 0.1653 - accuracy: 0.9429 - val_loss: 0.2083 - val_accuracy: 0.9208 - 848ms/epoch - 8ms/step\n",
            "Epoch 44/1000\n",
            "104/104 - 1s - loss: 0.1641 - accuracy: 0.9432 - val_loss: 0.2089 - val_accuracy: 0.9201 - 847ms/epoch - 8ms/step\n",
            "Epoch 45/1000\n",
            "104/104 - 1s - loss: 0.1650 - accuracy: 0.9429 - val_loss: 0.2084 - val_accuracy: 0.9194 - 843ms/epoch - 8ms/step\n",
            "Epoch 46/1000\n",
            "104/104 - 1s - loss: 0.1658 - accuracy: 0.9432 - val_loss: 0.2089 - val_accuracy: 0.9201 - 849ms/epoch - 8ms/step\n",
            "Epoch 47/1000\n",
            "104/104 - 1s - loss: 0.1631 - accuracy: 0.9435 - val_loss: 0.2088 - val_accuracy: 0.9208 - 834ms/epoch - 8ms/step\n",
            "Epoch 48/1000\n",
            "104/104 - 1s - loss: 0.1626 - accuracy: 0.9450 - val_loss: 0.2078 - val_accuracy: 0.9187 - 832ms/epoch - 8ms/step\n",
            "Epoch 49/1000\n",
            "104/104 - 1s - loss: 0.1649 - accuracy: 0.9435 - val_loss: 0.2080 - val_accuracy: 0.9201 - 861ms/epoch - 8ms/step\n",
            "Epoch 50/1000\n",
            "104/104 - 1s - loss: 0.1617 - accuracy: 0.9447 - val_loss: 0.2071 - val_accuracy: 0.9180 - 840ms/epoch - 8ms/step\n",
            "Epoch 51/1000\n",
            "104/104 - 1s - loss: 0.1625 - accuracy: 0.9441 - val_loss: 0.2064 - val_accuracy: 0.9158 - 821ms/epoch - 8ms/step\n",
            "Epoch 52/1000\n",
            "104/104 - 1s - loss: 0.1643 - accuracy: 0.9432 - val_loss: 0.2068 - val_accuracy: 0.9158 - 1s/epoch - 10ms/step\n",
            "Epoch 53/1000\n",
            "104/104 - 1s - loss: 0.1622 - accuracy: 0.9441 - val_loss: 0.2072 - val_accuracy: 0.9158 - 832ms/epoch - 8ms/step\n",
            "Epoch 54/1000\n",
            "104/104 - 1s - loss: 0.1636 - accuracy: 0.9423 - val_loss: 0.2074 - val_accuracy: 0.9208 - 815ms/epoch - 8ms/step\n",
            "Epoch 55/1000\n",
            "104/104 - 1s - loss: 0.1627 - accuracy: 0.9432 - val_loss: 0.2063 - val_accuracy: 0.9165 - 815ms/epoch - 8ms/step\n",
            "Epoch 56/1000\n",
            "104/104 - 1s - loss: 0.1611 - accuracy: 0.9441 - val_loss: 0.2064 - val_accuracy: 0.9180 - 831ms/epoch - 8ms/step\n",
            "Epoch 57/1000\n",
            "104/104 - 1s - loss: 0.1623 - accuracy: 0.9435 - val_loss: 0.2066 - val_accuracy: 0.9194 - 807ms/epoch - 8ms/step\n",
            "Epoch 58/1000\n",
            "104/104 - 1s - loss: 0.1625 - accuracy: 0.9423 - val_loss: 0.2066 - val_accuracy: 0.9187 - 802ms/epoch - 8ms/step\n",
            "Epoch 59/1000\n",
            "104/104 - 1s - loss: 0.1619 - accuracy: 0.9435 - val_loss: 0.2062 - val_accuracy: 0.9187 - 982ms/epoch - 9ms/step\n",
            "Epoch 60/1000\n",
            "104/104 - 1s - loss: 0.1614 - accuracy: 0.9423 - val_loss: 0.2071 - val_accuracy: 0.9208 - 812ms/epoch - 8ms/step\n",
            "Epoch 61/1000\n",
            "104/104 - 1s - loss: 0.1602 - accuracy: 0.9441 - val_loss: 0.2052 - val_accuracy: 0.9173 - 803ms/epoch - 8ms/step\n",
            "Epoch 62/1000\n",
            "104/104 - 1s - loss: 0.1621 - accuracy: 0.9444 - val_loss: 0.2064 - val_accuracy: 0.9194 - 805ms/epoch - 8ms/step\n",
            "Epoch 63/1000\n",
            "104/104 - 1s - loss: 0.1616 - accuracy: 0.9429 - val_loss: 0.2054 - val_accuracy: 0.9194 - 809ms/epoch - 8ms/step\n",
            "Epoch 64/1000\n",
            "104/104 - 1s - loss: 0.1605 - accuracy: 0.9432 - val_loss: 0.2074 - val_accuracy: 0.9215 - 810ms/epoch - 8ms/step\n",
            "Epoch 65/1000\n",
            "104/104 - 1s - loss: 0.1591 - accuracy: 0.9432 - val_loss: 0.2068 - val_accuracy: 0.9187 - 831ms/epoch - 8ms/step\n",
            "Epoch 66/1000\n",
            "104/104 - 1s - loss: 0.1584 - accuracy: 0.9438 - val_loss: 0.2067 - val_accuracy: 0.9187 - 810ms/epoch - 8ms/step\n",
            "Epoch 67/1000\n",
            "104/104 - 1s - loss: 0.1596 - accuracy: 0.9444 - val_loss: 0.2051 - val_accuracy: 0.9180 - 807ms/epoch - 8ms/step\n",
            "Epoch 68/1000\n",
            "104/104 - 1s - loss: 0.1590 - accuracy: 0.9447 - val_loss: 0.2067 - val_accuracy: 0.9194 - 814ms/epoch - 8ms/step\n",
            "Epoch 69/1000\n",
            "104/104 - 1s - loss: 0.1607 - accuracy: 0.9447 - val_loss: 0.2059 - val_accuracy: 0.9215 - 806ms/epoch - 8ms/step\n",
            "Epoch 70/1000\n",
            "104/104 - 1s - loss: 0.1590 - accuracy: 0.9456 - val_loss: 0.2060 - val_accuracy: 0.9215 - 859ms/epoch - 8ms/step\n",
            "Epoch 71/1000\n",
            "104/104 - 1s - loss: 0.1589 - accuracy: 0.9450 - val_loss: 0.2048 - val_accuracy: 0.9173 - 839ms/epoch - 8ms/step\n",
            "Epoch 72/1000\n",
            "104/104 - 1s - loss: 0.1578 - accuracy: 0.9438 - val_loss: 0.2057 - val_accuracy: 0.9173 - 838ms/epoch - 8ms/step\n",
            "Epoch 73/1000\n",
            "104/104 - 1s - loss: 0.1572 - accuracy: 0.9444 - val_loss: 0.2063 - val_accuracy: 0.9187 - 822ms/epoch - 8ms/step\n",
            "Epoch 74/1000\n",
            "104/104 - 1s - loss: 0.1623 - accuracy: 0.9435 - val_loss: 0.2045 - val_accuracy: 0.9165 - 830ms/epoch - 8ms/step\n",
            "Epoch 75/1000\n",
            "104/104 - 1s - loss: 0.1592 - accuracy: 0.9447 - val_loss: 0.2056 - val_accuracy: 0.9173 - 804ms/epoch - 8ms/step\n",
            "Epoch 76/1000\n",
            "104/104 - 1s - loss: 0.1586 - accuracy: 0.9429 - val_loss: 0.2051 - val_accuracy: 0.9173 - 825ms/epoch - 8ms/step\n",
            "Epoch 77/1000\n",
            "104/104 - 1s - loss: 0.1578 - accuracy: 0.9438 - val_loss: 0.2055 - val_accuracy: 0.9187 - 825ms/epoch - 8ms/step\n",
            "Epoch 78/1000\n",
            "104/104 - 1s - loss: 0.1594 - accuracy: 0.9441 - val_loss: 0.2058 - val_accuracy: 0.9194 - 854ms/epoch - 8ms/step\n",
            "Epoch 79/1000\n",
            "104/104 - 1s - loss: 0.1627 - accuracy: 0.9447 - val_loss: 0.2051 - val_accuracy: 0.9194 - 868ms/epoch - 8ms/step\n",
            "Epoch 80/1000\n",
            "104/104 - 1s - loss: 0.1601 - accuracy: 0.9447 - val_loss: 0.2054 - val_accuracy: 0.9194 - 875ms/epoch - 8ms/step\n",
            "Epoch 81/1000\n",
            "104/104 - 1s - loss: 0.1611 - accuracy: 0.9438 - val_loss: 0.2058 - val_accuracy: 0.9194 - 853ms/epoch - 8ms/step\n",
            "Epoch 82/1000\n",
            "104/104 - 1s - loss: 0.1577 - accuracy: 0.9450 - val_loss: 0.2057 - val_accuracy: 0.9215 - 872ms/epoch - 8ms/step\n",
            "Epoch 83/1000\n",
            "104/104 - 1s - loss: 0.1589 - accuracy: 0.9429 - val_loss: 0.2056 - val_accuracy: 0.9201 - 862ms/epoch - 8ms/step\n",
            "Epoch 84/1000\n",
            "104/104 - 1s - loss: 0.1609 - accuracy: 0.9456 - val_loss: 0.2048 - val_accuracy: 0.9187 - 865ms/epoch - 8ms/step\n",
            "Epoch 85/1000\n",
            "104/104 - 1s - loss: 0.1575 - accuracy: 0.9453 - val_loss: 0.2057 - val_accuracy: 0.9215 - 892ms/epoch - 9ms/step\n",
            "Epoch 86/1000\n",
            "104/104 - 1s - loss: 0.1581 - accuracy: 0.9453 - val_loss: 0.2051 - val_accuracy: 0.9215 - 883ms/epoch - 8ms/step\n",
            "Epoch 87/1000\n",
            "104/104 - 1s - loss: 0.1586 - accuracy: 0.9444 - val_loss: 0.2054 - val_accuracy: 0.9208 - 914ms/epoch - 9ms/step\n",
            "Epoch 88/1000\n",
            "104/104 - 1s - loss: 0.1576 - accuracy: 0.9435 - val_loss: 0.2048 - val_accuracy: 0.9215 - 878ms/epoch - 8ms/step\n",
            "Epoch 89/1000\n",
            "104/104 - 1s - loss: 0.1577 - accuracy: 0.9450 - val_loss: 0.2056 - val_accuracy: 0.9215 - 881ms/epoch - 8ms/step\n"
          ]
        }
      ]
    },
    {
      "cell_type": "code",
      "source": [
        "loss = history.history['loss']\n",
        "val_loss = history.history['val_loss']\n",
        "epochs = range(1, len(loss) + 1)\n",
        "plt.plot(epochs, loss, 'y', label = \"Training loss\")\n",
        "plt.plot(epochs, val_loss, 'r', label=\"Validation loss\")\n",
        "plt.title(\"Training and validation loss\")\n",
        "plt.xlabel(\"Epochs\")\n",
        "plt.ylabel('Loss')\n",
        "plt.legend()\n",
        "plt.show()\n",
        "\n",
        "\n",
        "acc = history.history[\"accuracy\"]\n",
        "val_acc = history.history[\"val_accuracy\"]\n",
        "plt.plot(epochs, acc, 'y', label = \"Training acc\")\n",
        "plt.plot(epochs, val_acc, 'r', label=\"Validation acc\")\n",
        "plt.title(\"Training and validation accuracy\")\n",
        "plt.xlabel(\"Epochs\")\n",
        "plt.ylabel('Accuracy')\n",
        "plt.legend()\n",
        "plt.show()"
      ],
      "metadata": {
        "colab": {
          "base_uri": "https://localhost:8080/",
          "height": 573
        },
        "id": "VnXXV_L5FqMF",
        "outputId": "ea4697c8-dad8-4795-d719-086f01868d50"
      },
      "execution_count": null,
      "outputs": [
        {
          "output_type": "display_data",
          "data": {
            "image/png": "[encoded data removed]",
            "text/plain": [
              "<Figure size 432x288 with 1 Axes>"
            ]
          },
          "metadata": {
            "needs_background": "light"
          }
        },
        {
          "output_type": "display_data",
          "data": {
            "image/png": "[encoded data removed]",
            "text/plain": [
              "<Figure size 432x288 with 1 Axes>"
            ]
          },
          "metadata": {
            "needs_background": "light"
          }
        }
      ]
    },
    {
      "cell_type": "code",
      "source": [
        "y_predicted = model.predict(X_test)\n",
        "print(\"Confusion matrix for our model is: \\n\", confusion_matrix(y_test, y_predicted.round()))\n",
        "print(\"Score of our model is: \", model.evaluate(X_test, y_test))"
      ],
      "metadata": {
        "colab": {
          "base_uri": "https://localhost:8080/"
        },
        "id": "Q26bz-M6HHRn",
        "outputId": "c6a80dda-8098-42c7-c734-8ca5d71f854b"
      },
      "execution_count": null,
      "outputs": [
        {
          "output_type": "stream",
          "name": "stdout",
          "text": [
            "Confusion matrix for our model is: \n",
            " [[1232   37]\n",
            " [ 107  167]]\n",
            "49/49 [==============================] - 0s 4ms/step - loss: 0.2366 - accuracy: 0.9067\n",
            "Score of our model is:  [0.2366122156381607, 0.9066752791404724]\n"
          ]
        }
      ]
    },
    {
      "cell_type": "code",
      "source": [
        ""
      ],
      "metadata": {
        "id": "S70bXL4YISVN"
      },
      "execution_count": null,
      "outputs": []
    },
    {
      "cell_type": "markdown",
      "source": [
        "On whole data"
      ],
      "metadata": {
        "id": "nnmgvqFhISkM"
      }
    },
    {
      "cell_type": "code",
      "source": [
        "y = np.asarray(y).astype('float32').reshape((-1,1))"
      ],
      "metadata": {
        "id": "XmbXPfjyIU1I"
      },
      "execution_count": null,
      "outputs": []
    },
    {
      "cell_type": "code",
      "source": [
        ""
      ],
      "metadata": {
        "id": "nXdrX01XNOvz"
      },
      "execution_count": null,
      "outputs": []
    },
    {
      "cell_type": "code",
      "source": [
        "model = tf.keras.Sequential([\n",
        "    tf.keras.layers.GRU(144, activation='tanh', return_sequences=True, input_shape=(4, X_train.shape[2])),\n",
        "    tf.keras.layers.GRU(86, activation='tanh', return_sequences=True),\n",
        "    tf.keras.layers.GRU(86, activation='tanh'),\n",
        "    tf.keras.layers.Dense(64, activation='relu'),\n",
        "    tf.keras.layers.Dropout(0.2),\n",
        "    tf.keras.layers.Dense(32, activation='relu'),\n",
        "    tf.keras.layers.Dense(16, activation='relu'),\n",
        "    tf.keras.layers.Dense(1, activation='sigmoid')\n",
        "    \n",
        "])\n",
        "opt = tf.keras.optimizers.Adam(learning_rate=0.00001)\n",
        "model.compile(optimizer=opt, loss='binary_crossentropy', metrics=[\"accuracy\"])\n",
        "\n",
        "early_stopping = tf.keras.callbacks.EarlyStopping(\n",
        "    min_delta = 0.0001,\n",
        "    patience = 25,\n",
        "    restore_best_weights = True\n",
        ")\n",
        "\n",
        "history = model.fit(X, y, validation_split=0.3, callbacks=[early_stopping], epochs=1000, verbose=2)"
      ],
      "metadata": {
        "colab": {
          "base_uri": "https://localhost:8080/"
        },
        "id": "3_kMR9FOILcq",
        "outputId": "15dcfb53-bb97-4306-e3b5-2ee5c268a749"
      },
      "execution_count": null,
      "outputs": [
        {
          "output_type": "stream",
          "name": "stdout",
          "text": [
            "Epoch 1/1000\n",
            "130/130 - 7s - loss: 0.6355 - accuracy: 0.7227 - val_loss: 0.5323 - val_accuracy: 0.9169 - 7s/epoch - 54ms/step\n",
            "Epoch 2/1000\n",
            "130/130 - 1s - loss: 0.4767 - accuracy: 0.9117 - val_loss: 0.3978 - val_accuracy: 0.9169 - 1s/epoch - 8ms/step\n",
            "Epoch 3/1000\n",
            "130/130 - 1s - loss: 0.3762 - accuracy: 0.9110 - val_loss: 0.3201 - val_accuracy: 0.9169 - 1s/epoch - 8ms/step\n",
            "Epoch 4/1000\n",
            "130/130 - 1s - loss: 0.3121 - accuracy: 0.9110 - val_loss: 0.2680 - val_accuracy: 0.9169 - 1s/epoch - 8ms/step\n",
            "Epoch 5/1000\n",
            "130/130 - 1s - loss: 0.2758 - accuracy: 0.9110 - val_loss: 0.2408 - val_accuracy: 0.9169 - 1s/epoch - 9ms/step\n",
            "Epoch 6/1000\n",
            "130/130 - 1s - loss: 0.2554 - accuracy: 0.9110 - val_loss: 0.2235 - val_accuracy: 0.9169 - 1s/epoch - 8ms/step\n",
            "Epoch 7/1000\n",
            "130/130 - 1s - loss: 0.2383 - accuracy: 0.9110 - val_loss: 0.2095 - val_accuracy: 0.9169 - 1s/epoch - 8ms/step\n",
            "Epoch 8/1000\n",
            "130/130 - 1s - loss: 0.2279 - accuracy: 0.9127 - val_loss: 0.1968 - val_accuracy: 0.9237 - 1s/epoch - 8ms/step\n",
            "Epoch 9/1000\n",
            "130/130 - 1s - loss: 0.2138 - accuracy: 0.9165 - val_loss: 0.1868 - val_accuracy: 0.9332 - 1s/epoch - 8ms/step\n",
            "Epoch 10/1000\n",
            "130/130 - 1s - loss: 0.2044 - accuracy: 0.9216 - val_loss: 0.1800 - val_accuracy: 0.9355 - 1s/epoch - 8ms/step\n",
            "Epoch 11/1000\n",
            "130/130 - 1s - loss: 0.2004 - accuracy: 0.9269 - val_loss: 0.1750 - val_accuracy: 0.9400 - 1s/epoch - 9ms/step\n",
            "Epoch 12/1000\n",
            "130/130 - 1s - loss: 0.1906 - accuracy: 0.9310 - val_loss: 0.1719 - val_accuracy: 0.9411 - 1s/epoch - 8ms/step\n",
            "Epoch 13/1000\n",
            "130/130 - 1s - loss: 0.1894 - accuracy: 0.9310 - val_loss: 0.1700 - val_accuracy: 0.9422 - 1s/epoch - 8ms/step\n",
            "Epoch 14/1000\n",
            "130/130 - 1s - loss: 0.1862 - accuracy: 0.9312 - val_loss: 0.1686 - val_accuracy: 0.9439 - 1s/epoch - 8ms/step\n",
            "Epoch 15/1000\n",
            "130/130 - 1s - loss: 0.1853 - accuracy: 0.9317 - val_loss: 0.1683 - val_accuracy: 0.9439 - 1s/epoch - 8ms/step\n",
            "Epoch 16/1000\n",
            "130/130 - 1s - loss: 0.1843 - accuracy: 0.9293 - val_loss: 0.1678 - val_accuracy: 0.9428 - 1s/epoch - 8ms/step\n",
            "Epoch 17/1000\n",
            "130/130 - 1s - loss: 0.1839 - accuracy: 0.9312 - val_loss: 0.1674 - val_accuracy: 0.9444 - 1s/epoch - 8ms/step\n",
            "Epoch 18/1000\n",
            "130/130 - 1s - loss: 0.1836 - accuracy: 0.9317 - val_loss: 0.1668 - val_accuracy: 0.9444 - 1s/epoch - 8ms/step\n",
            "Epoch 19/1000\n",
            "130/130 - 1s - loss: 0.1804 - accuracy: 0.9336 - val_loss: 0.1672 - val_accuracy: 0.9439 - 1s/epoch - 9ms/step\n",
            "Epoch 20/1000\n",
            "130/130 - 1s - loss: 0.1830 - accuracy: 0.9298 - val_loss: 0.1668 - val_accuracy: 0.9439 - 1s/epoch - 8ms/step\n",
            "Epoch 21/1000\n",
            "130/130 - 1s - loss: 0.1820 - accuracy: 0.9317 - val_loss: 0.1665 - val_accuracy: 0.9439 - 1s/epoch - 8ms/step\n",
            "Epoch 22/1000\n",
            "130/130 - 1s - loss: 0.1812 - accuracy: 0.9322 - val_loss: 0.1665 - val_accuracy: 0.9433 - 1s/epoch - 8ms/step\n",
            "Epoch 23/1000\n",
            "130/130 - 1s - loss: 0.1796 - accuracy: 0.9322 - val_loss: 0.1659 - val_accuracy: 0.9428 - 1s/epoch - 8ms/step\n",
            "Epoch 24/1000\n",
            "130/130 - 1s - loss: 0.1785 - accuracy: 0.9339 - val_loss: 0.1652 - val_accuracy: 0.9428 - 1s/epoch - 8ms/step\n",
            "Epoch 25/1000\n",
            "130/130 - 1s - loss: 0.1805 - accuracy: 0.9307 - val_loss: 0.1657 - val_accuracy: 0.9439 - 1s/epoch - 8ms/step\n",
            "Epoch 26/1000\n",
            "130/130 - 1s - loss: 0.1776 - accuracy: 0.9351 - val_loss: 0.1652 - val_accuracy: 0.9433 - 1s/epoch - 8ms/step\n",
            "Epoch 27/1000\n",
            "130/130 - 1s - loss: 0.1799 - accuracy: 0.9329 - val_loss: 0.1653 - val_accuracy: 0.9428 - 1s/epoch - 8ms/step\n",
            "Epoch 28/1000\n",
            "130/130 - 1s - loss: 0.1791 - accuracy: 0.9351 - val_loss: 0.1654 - val_accuracy: 0.9428 - 1s/epoch - 8ms/step\n",
            "Epoch 29/1000\n",
            "130/130 - 1s - loss: 0.1766 - accuracy: 0.9322 - val_loss: 0.1647 - val_accuracy: 0.9428 - 1s/epoch - 8ms/step\n",
            "Epoch 30/1000\n",
            "130/130 - 1s - loss: 0.1787 - accuracy: 0.9315 - val_loss: 0.1648 - val_accuracy: 0.9433 - 1s/epoch - 8ms/step\n",
            "Epoch 31/1000\n",
            "130/130 - 1s - loss: 0.1783 - accuracy: 0.9319 - val_loss: 0.1641 - val_accuracy: 0.9433 - 1s/epoch - 8ms/step\n",
            "Epoch 32/1000\n",
            "130/130 - 1s - loss: 0.1755 - accuracy: 0.9367 - val_loss: 0.1639 - val_accuracy: 0.9422 - 1s/epoch - 8ms/step\n",
            "Epoch 33/1000\n",
            "130/130 - 1s - loss: 0.1777 - accuracy: 0.9319 - val_loss: 0.1639 - val_accuracy: 0.9416 - 1s/epoch - 8ms/step\n",
            "Epoch 34/1000\n",
            "130/130 - 1s - loss: 0.1768 - accuracy: 0.9319 - val_loss: 0.1638 - val_accuracy: 0.9416 - 1s/epoch - 8ms/step\n",
            "Epoch 35/1000\n",
            "130/130 - 1s - loss: 0.1754 - accuracy: 0.9341 - val_loss: 0.1638 - val_accuracy: 0.9416 - 1s/epoch - 8ms/step\n",
            "Epoch 36/1000\n",
            "130/130 - 1s - loss: 0.1749 - accuracy: 0.9351 - val_loss: 0.1637 - val_accuracy: 0.9416 - 1s/epoch - 8ms/step\n",
            "Epoch 37/1000\n",
            "130/130 - 1s - loss: 0.1769 - accuracy: 0.9327 - val_loss: 0.1636 - val_accuracy: 0.9422 - 1s/epoch - 8ms/step\n",
            "Epoch 38/1000\n",
            "130/130 - 1s - loss: 0.1761 - accuracy: 0.9367 - val_loss: 0.1632 - val_accuracy: 0.9416 - 1s/epoch - 8ms/step\n",
            "Epoch 39/1000\n",
            "130/130 - 1s - loss: 0.1771 - accuracy: 0.9353 - val_loss: 0.1629 - val_accuracy: 0.9428 - 1s/epoch - 8ms/step\n",
            "Epoch 40/1000\n",
            "130/130 - 1s - loss: 0.1742 - accuracy: 0.9343 - val_loss: 0.1627 - val_accuracy: 0.9422 - 1s/epoch - 8ms/step\n",
            "Epoch 41/1000\n",
            "130/130 - 1s - loss: 0.1757 - accuracy: 0.9303 - val_loss: 0.1628 - val_accuracy: 0.9428 - 1s/epoch - 8ms/step\n",
            "Epoch 42/1000\n",
            "130/130 - 1s - loss: 0.1730 - accuracy: 0.9353 - val_loss: 0.1631 - val_accuracy: 0.9422 - 1s/epoch - 8ms/step\n",
            "Epoch 43/1000\n",
            "130/130 - 1s - loss: 0.1733 - accuracy: 0.9317 - val_loss: 0.1633 - val_accuracy: 0.9416 - 1s/epoch - 8ms/step\n",
            "Epoch 44/1000\n",
            "130/130 - 1s - loss: 0.1760 - accuracy: 0.9317 - val_loss: 0.1634 - val_accuracy: 0.9416 - 1s/epoch - 8ms/step\n",
            "Epoch 45/1000\n",
            "130/130 - 1s - loss: 0.1739 - accuracy: 0.9327 - val_loss: 0.1635 - val_accuracy: 0.9416 - 1s/epoch - 8ms/step\n",
            "Epoch 46/1000\n",
            "130/130 - 1s - loss: 0.1749 - accuracy: 0.9329 - val_loss: 0.1633 - val_accuracy: 0.9422 - 1s/epoch - 8ms/step\n",
            "Epoch 47/1000\n",
            "130/130 - 1s - loss: 0.1742 - accuracy: 0.9305 - val_loss: 0.1633 - val_accuracy: 0.9416 - 1s/epoch - 8ms/step\n",
            "Epoch 48/1000\n",
            "130/130 - 1s - loss: 0.1737 - accuracy: 0.9341 - val_loss: 0.1635 - val_accuracy: 0.9416 - 1s/epoch - 8ms/step\n",
            "Epoch 49/1000\n",
            "130/130 - 1s - loss: 0.1741 - accuracy: 0.9353 - val_loss: 0.1632 - val_accuracy: 0.9416 - 1s/epoch - 8ms/step\n",
            "Epoch 50/1000\n",
            "130/130 - 1s - loss: 0.1729 - accuracy: 0.9355 - val_loss: 0.1631 - val_accuracy: 0.9428 - 1s/epoch - 9ms/step\n",
            "Epoch 51/1000\n",
            "130/130 - 1s - loss: 0.1721 - accuracy: 0.9367 - val_loss: 0.1630 - val_accuracy: 0.9422 - 1s/epoch - 8ms/step\n",
            "Epoch 52/1000\n",
            "130/130 - 1s - loss: 0.1727 - accuracy: 0.9348 - val_loss: 0.1634 - val_accuracy: 0.9428 - 1s/epoch - 8ms/step\n",
            "Epoch 53/1000\n",
            "130/130 - 1s - loss: 0.1725 - accuracy: 0.9339 - val_loss: 0.1632 - val_accuracy: 0.9411 - 1s/epoch - 8ms/step\n",
            "Epoch 54/1000\n",
            "130/130 - 1s - loss: 0.1712 - accuracy: 0.9372 - val_loss: 0.1632 - val_accuracy: 0.9416 - 1s/epoch - 8ms/step\n",
            "Epoch 55/1000\n",
            "130/130 - 1s - loss: 0.1715 - accuracy: 0.9341 - val_loss: 0.1632 - val_accuracy: 0.9428 - 1s/epoch - 8ms/step\n",
            "Epoch 56/1000\n",
            "130/130 - 1s - loss: 0.1701 - accuracy: 0.9355 - val_loss: 0.1627 - val_accuracy: 0.9428 - 1s/epoch - 8ms/step\n",
            "Epoch 57/1000\n",
            "130/130 - 1s - loss: 0.1718 - accuracy: 0.9363 - val_loss: 0.1623 - val_accuracy: 0.9422 - 1s/epoch - 8ms/step\n",
            "Epoch 58/1000\n",
            "130/130 - 1s - loss: 0.1729 - accuracy: 0.9341 - val_loss: 0.1621 - val_accuracy: 0.9433 - 1s/epoch - 8ms/step\n",
            "Epoch 59/1000\n",
            "130/130 - 1s - loss: 0.1719 - accuracy: 0.9363 - val_loss: 0.1631 - val_accuracy: 0.9405 - 1s/epoch - 8ms/step\n",
            "Epoch 60/1000\n",
            "130/130 - 1s - loss: 0.1717 - accuracy: 0.9367 - val_loss: 0.1620 - val_accuracy: 0.9428 - 1s/epoch - 8ms/step\n",
            "Epoch 61/1000\n",
            "130/130 - 1s - loss: 0.1735 - accuracy: 0.9336 - val_loss: 0.1622 - val_accuracy: 0.9411 - 1s/epoch - 8ms/step\n",
            "Epoch 62/1000\n",
            "130/130 - 1s - loss: 0.1719 - accuracy: 0.9346 - val_loss: 0.1620 - val_accuracy: 0.9433 - 1s/epoch - 8ms/step\n",
            "Epoch 63/1000\n",
            "130/130 - 1s - loss: 0.1703 - accuracy: 0.9370 - val_loss: 0.1618 - val_accuracy: 0.9433 - 1s/epoch - 8ms/step\n",
            "Epoch 64/1000\n",
            "130/130 - 1s - loss: 0.1712 - accuracy: 0.9351 - val_loss: 0.1614 - val_accuracy: 0.9433 - 1s/epoch - 8ms/step\n",
            "Epoch 65/1000\n",
            "130/130 - 1s - loss: 0.1707 - accuracy: 0.9358 - val_loss: 0.1612 - val_accuracy: 0.9439 - 1s/epoch - 8ms/step\n",
            "Epoch 66/1000\n",
            "130/130 - 1s - loss: 0.1719 - accuracy: 0.9331 - val_loss: 0.1617 - val_accuracy: 0.9416 - 1s/epoch - 8ms/step\n",
            "Epoch 67/1000\n",
            "130/130 - 1s - loss: 0.1720 - accuracy: 0.9358 - val_loss: 0.1614 - val_accuracy: 0.9428 - 1s/epoch - 8ms/step\n",
            "Epoch 68/1000\n",
            "130/130 - 1s - loss: 0.1700 - accuracy: 0.9360 - val_loss: 0.1616 - val_accuracy: 0.9422 - 1s/epoch - 8ms/step\n",
            "Epoch 69/1000\n",
            "130/130 - 1s - loss: 0.1683 - accuracy: 0.9372 - val_loss: 0.1618 - val_accuracy: 0.9422 - 1s/epoch - 8ms/step\n",
            "Epoch 70/1000\n",
            "130/130 - 1s - loss: 0.1686 - accuracy: 0.9363 - val_loss: 0.1614 - val_accuracy: 0.9433 - 1s/epoch - 8ms/step\n",
            "Epoch 71/1000\n",
            "130/130 - 1s - loss: 0.1716 - accuracy: 0.9351 - val_loss: 0.1616 - val_accuracy: 0.9433 - 1s/epoch - 8ms/step\n",
            "Epoch 72/1000\n",
            "130/130 - 1s - loss: 0.1704 - accuracy: 0.9355 - val_loss: 0.1612 - val_accuracy: 0.9428 - 1s/epoch - 8ms/step\n",
            "Epoch 73/1000\n",
            "130/130 - 1s - loss: 0.1714 - accuracy: 0.9343 - val_loss: 0.1610 - val_accuracy: 0.9433 - 1s/epoch - 8ms/step\n",
            "Epoch 74/1000\n",
            "130/130 - 1s - loss: 0.1705 - accuracy: 0.9346 - val_loss: 0.1612 - val_accuracy: 0.9422 - 1s/epoch - 8ms/step\n",
            "Epoch 75/1000\n",
            "130/130 - 1s - loss: 0.1686 - accuracy: 0.9327 - val_loss: 0.1609 - val_accuracy: 0.9428 - 1s/epoch - 8ms/step\n",
            "Epoch 76/1000\n",
            "130/130 - 1s - loss: 0.1697 - accuracy: 0.9339 - val_loss: 0.1618 - val_accuracy: 0.9416 - 1s/epoch - 8ms/step\n",
            "Epoch 77/1000\n",
            "130/130 - 1s - loss: 0.1701 - accuracy: 0.9367 - val_loss: 0.1615 - val_accuracy: 0.9428 - 1s/epoch - 8ms/step\n",
            "Epoch 78/1000\n",
            "130/130 - 1s - loss: 0.1691 - accuracy: 0.9343 - val_loss: 0.1619 - val_accuracy: 0.9422 - 1s/epoch - 8ms/step\n",
            "Epoch 79/1000\n",
            "130/130 - 1s - loss: 0.1698 - accuracy: 0.9358 - val_loss: 0.1615 - val_accuracy: 0.9416 - 1s/epoch - 8ms/step\n",
            "Epoch 80/1000\n",
            "130/130 - 1s - loss: 0.1687 - accuracy: 0.9382 - val_loss: 0.1614 - val_accuracy: 0.9422 - 1s/epoch - 9ms/step\n",
            "Epoch 81/1000\n",
            "130/130 - 1s - loss: 0.1705 - accuracy: 0.9339 - val_loss: 0.1613 - val_accuracy: 0.9411 - 1s/epoch - 8ms/step\n",
            "Epoch 82/1000\n",
            "130/130 - 1s - loss: 0.1672 - accuracy: 0.9346 - val_loss: 0.1618 - val_accuracy: 0.9422 - 1s/epoch - 8ms/step\n",
            "Epoch 83/1000\n",
            "130/130 - 1s - loss: 0.1681 - accuracy: 0.9353 - val_loss: 0.1619 - val_accuracy: 0.9405 - 1s/epoch - 8ms/step\n",
            "Epoch 84/1000\n",
            "130/130 - 1s - loss: 0.1678 - accuracy: 0.9367 - val_loss: 0.1613 - val_accuracy: 0.9433 - 1s/epoch - 8ms/step\n",
            "Epoch 85/1000\n",
            "130/130 - 1s - loss: 0.1677 - accuracy: 0.9334 - val_loss: 0.1612 - val_accuracy: 0.9422 - 1s/epoch - 8ms/step\n",
            "Epoch 86/1000\n",
            "130/130 - 1s - loss: 0.1673 - accuracy: 0.9351 - val_loss: 0.1614 - val_accuracy: 0.9422 - 1s/epoch - 8ms/step\n",
            "Epoch 87/1000\n",
            "130/130 - 1s - loss: 0.1682 - accuracy: 0.9355 - val_loss: 0.1615 - val_accuracy: 0.9416 - 1s/epoch - 9ms/step\n",
            "Epoch 88/1000\n",
            "130/130 - 1s - loss: 0.1674 - accuracy: 0.9360 - val_loss: 0.1611 - val_accuracy: 0.9422 - 1s/epoch - 8ms/step\n",
            "Epoch 89/1000\n",
            "130/130 - 1s - loss: 0.1682 - accuracy: 0.9384 - val_loss: 0.1610 - val_accuracy: 0.9416 - 1s/epoch - 8ms/step\n",
            "Epoch 90/1000\n",
            "130/130 - 1s - loss: 0.1700 - accuracy: 0.9358 - val_loss: 0.1616 - val_accuracy: 0.9416 - 1s/epoch - 8ms/step\n",
            "Epoch 91/1000\n",
            "130/130 - 1s - loss: 0.1676 - accuracy: 0.9365 - val_loss: 0.1613 - val_accuracy: 0.9428 - 1s/epoch - 8ms/step\n",
            "Epoch 92/1000\n",
            "130/130 - 1s - loss: 0.1675 - accuracy: 0.9372 - val_loss: 0.1609 - val_accuracy: 0.9422 - 1s/epoch - 9ms/step\n",
            "Epoch 93/1000\n",
            "130/130 - 1s - loss: 0.1668 - accuracy: 0.9367 - val_loss: 0.1611 - val_accuracy: 0.9416 - 1s/epoch - 8ms/step\n",
            "Epoch 94/1000\n",
            "130/130 - 1s - loss: 0.1656 - accuracy: 0.9380 - val_loss: 0.1612 - val_accuracy: 0.9416 - 1s/epoch - 8ms/step\n",
            "Epoch 95/1000\n",
            "130/130 - 1s - loss: 0.1656 - accuracy: 0.9367 - val_loss: 0.1607 - val_accuracy: 0.9405 - 1s/epoch - 8ms/step\n",
            "Epoch 96/1000\n",
            "130/130 - 1s - loss: 0.1673 - accuracy: 0.9365 - val_loss: 0.1607 - val_accuracy: 0.9405 - 1s/epoch - 8ms/step\n",
            "Epoch 97/1000\n",
            "130/130 - 1s - loss: 0.1648 - accuracy: 0.9382 - val_loss: 0.1616 - val_accuracy: 0.9428 - 1s/epoch - 8ms/step\n",
            "Epoch 98/1000\n",
            "130/130 - 1s - loss: 0.1660 - accuracy: 0.9343 - val_loss: 0.1613 - val_accuracy: 0.9411 - 1s/epoch - 8ms/step\n",
            "Epoch 99/1000\n",
            "130/130 - 1s - loss: 0.1672 - accuracy: 0.9372 - val_loss: 0.1611 - val_accuracy: 0.9416 - 1s/epoch - 8ms/step\n",
            "Epoch 100/1000\n",
            "130/130 - 1s - loss: 0.1658 - accuracy: 0.9365 - val_loss: 0.1617 - val_accuracy: 0.9416 - 1s/epoch - 8ms/step\n",
            "Epoch 101/1000\n",
            "130/130 - 1s - loss: 0.1671 - accuracy: 0.9377 - val_loss: 0.1615 - val_accuracy: 0.9428 - 1s/epoch - 8ms/step\n",
            "Epoch 102/1000\n",
            "130/130 - 1s - loss: 0.1674 - accuracy: 0.9351 - val_loss: 0.1612 - val_accuracy: 0.9422 - 1s/epoch - 8ms/step\n",
            "Epoch 103/1000\n",
            "130/130 - 1s - loss: 0.1655 - accuracy: 0.9365 - val_loss: 0.1615 - val_accuracy: 0.9422 - 1s/epoch - 8ms/step\n",
            "Epoch 104/1000\n",
            "130/130 - 1s - loss: 0.1651 - accuracy: 0.9375 - val_loss: 0.1610 - val_accuracy: 0.9416 - 1s/epoch - 8ms/step\n",
            "Epoch 105/1000\n",
            "130/130 - 1s - loss: 0.1667 - accuracy: 0.9380 - val_loss: 0.1605 - val_accuracy: 0.9405 - 991ms/epoch - 8ms/step\n",
            "Epoch 106/1000\n",
            "130/130 - 1s - loss: 0.1658 - accuracy: 0.9382 - val_loss: 0.1611 - val_accuracy: 0.9405 - 1s/epoch - 8ms/step\n",
            "Epoch 107/1000\n",
            "130/130 - 1s - loss: 0.1655 - accuracy: 0.9377 - val_loss: 0.1608 - val_accuracy: 0.9405 - 980ms/epoch - 8ms/step\n",
            "Epoch 108/1000\n",
            "130/130 - 1s - loss: 0.1657 - accuracy: 0.9392 - val_loss: 0.1612 - val_accuracy: 0.9416 - 1s/epoch - 8ms/step\n",
            "Epoch 109/1000\n",
            "130/130 - 1s - loss: 0.1655 - accuracy: 0.9367 - val_loss: 0.1610 - val_accuracy: 0.9405 - 1s/epoch - 8ms/step\n",
            "Epoch 110/1000\n",
            "130/130 - 1s - loss: 0.1645 - accuracy: 0.9382 - val_loss: 0.1614 - val_accuracy: 0.9416 - 1s/epoch - 8ms/step\n",
            "Epoch 111/1000\n",
            "130/130 - 1s - loss: 0.1648 - accuracy: 0.9396 - val_loss: 0.1611 - val_accuracy: 0.9411 - 1s/epoch - 8ms/step\n",
            "Epoch 112/1000\n",
            "130/130 - 1s - loss: 0.1667 - accuracy: 0.9360 - val_loss: 0.1621 - val_accuracy: 0.9428 - 1s/epoch - 8ms/step\n",
            "Epoch 113/1000\n",
            "130/130 - 1s - loss: 0.1649 - accuracy: 0.9406 - val_loss: 0.1611 - val_accuracy: 0.9422 - 1s/epoch - 8ms/step\n",
            "Epoch 114/1000\n",
            "130/130 - 1s - loss: 0.1652 - accuracy: 0.9365 - val_loss: 0.1619 - val_accuracy: 0.9416 - 1s/epoch - 8ms/step\n",
            "Epoch 115/1000\n",
            "130/130 - 1s - loss: 0.1637 - accuracy: 0.9399 - val_loss: 0.1620 - val_accuracy: 0.9411 - 990ms/epoch - 8ms/step\n",
            "Epoch 116/1000\n",
            "130/130 - 1s - loss: 0.1644 - accuracy: 0.9392 - val_loss: 0.1617 - val_accuracy: 0.9416 - 1s/epoch - 8ms/step\n",
            "Epoch 117/1000\n",
            "130/130 - 1s - loss: 0.1647 - accuracy: 0.9382 - val_loss: 0.1621 - val_accuracy: 0.9422 - 1s/epoch - 8ms/step\n",
            "Epoch 118/1000\n",
            "130/130 - 1s - loss: 0.1651 - accuracy: 0.9389 - val_loss: 0.1615 - val_accuracy: 0.9422 - 1s/epoch - 8ms/step\n",
            "Epoch 119/1000\n",
            "130/130 - 1s - loss: 0.1638 - accuracy: 0.9377 - val_loss: 0.1620 - val_accuracy: 0.9428 - 1s/epoch - 8ms/step\n",
            "Epoch 120/1000\n",
            "130/130 - 1s - loss: 0.1644 - accuracy: 0.9355 - val_loss: 0.1614 - val_accuracy: 0.9422 - 1s/epoch - 8ms/step\n",
            "Epoch 121/1000\n",
            "130/130 - 1s - loss: 0.1644 - accuracy: 0.9365 - val_loss: 0.1622 - val_accuracy: 0.9428 - 1s/epoch - 8ms/step\n",
            "Epoch 122/1000\n",
            "130/130 - 1s - loss: 0.1627 - accuracy: 0.9377 - val_loss: 0.1619 - val_accuracy: 0.9411 - 989ms/epoch - 8ms/step\n",
            "Epoch 123/1000\n",
            "130/130 - 1s - loss: 0.1635 - accuracy: 0.9360 - val_loss: 0.1614 - val_accuracy: 0.9428 - 976ms/epoch - 8ms/step\n",
            "Epoch 124/1000\n",
            "130/130 - 1s - loss: 0.1625 - accuracy: 0.9392 - val_loss: 0.1613 - val_accuracy: 0.9400 - 1s/epoch - 8ms/step\n",
            "Epoch 125/1000\n",
            "130/130 - 1s - loss: 0.1615 - accuracy: 0.9377 - val_loss: 0.1624 - val_accuracy: 0.9422 - 994ms/epoch - 8ms/step\n",
            "Epoch 126/1000\n",
            "130/130 - 1s - loss: 0.1648 - accuracy: 0.9387 - val_loss: 0.1620 - val_accuracy: 0.9422 - 978ms/epoch - 8ms/step\n",
            "Epoch 127/1000\n",
            "130/130 - 1s - loss: 0.1643 - accuracy: 0.9375 - val_loss: 0.1616 - val_accuracy: 0.9405 - 988ms/epoch - 8ms/step\n",
            "Epoch 128/1000\n",
            "130/130 - 1s - loss: 0.1621 - accuracy: 0.9377 - val_loss: 0.1618 - val_accuracy: 0.9428 - 1s/epoch - 8ms/step\n",
            "Epoch 129/1000\n",
            "130/130 - 1s - loss: 0.1637 - accuracy: 0.9372 - val_loss: 0.1626 - val_accuracy: 0.9422 - 1s/epoch - 8ms/step\n",
            "Epoch 130/1000\n",
            "130/130 - 1s - loss: 0.1622 - accuracy: 0.9394 - val_loss: 0.1621 - val_accuracy: 0.9428 - 1s/epoch - 8ms/step\n"
          ]
        }
      ]
    },
    {
      "cell_type": "code",
      "source": [
        "X_final = test_data.drop([\"Week\"], axis=1)"
      ],
      "metadata": {
        "id": "t1WSjv13Ikug"
      },
      "execution_count": null,
      "outputs": []
    },
    {
      "cell_type": "code",
      "source": [
        "ids = []\n",
        "for i in range(0, len(X_final), 4):\n",
        "    ids.append(str(X_final.Id[i]))"
      ],
      "metadata": {
        "id": "ZyHdsYQ6JRlT"
      },
      "execution_count": null,
      "outputs": []
    },
    {
      "cell_type": "code",
      "source": [
        "X_final = X_final.drop([\"Id\"], axis=1)"
      ],
      "metadata": {
        "id": "vE4LlJLoMAVt"
      },
      "execution_count": null,
      "outputs": []
    },
    {
      "cell_type": "code",
      "source": [
        "X_final = np.array(X_final)\n",
        "X_final = X_final.reshape(int(X_final.shape[0]/4), 4, 49)"
      ],
      "metadata": {
        "id": "RNdlDi_0I8Yx"
      },
      "execution_count": null,
      "outputs": []
    },
    {
      "cell_type": "code",
      "source": [
        "prediction = model.predict(X_final).round()\n",
        "prediction = prediction.reshape(int(prediction.shape[0]))"
      ],
      "metadata": {
        "id": "5vK7FAaLMEAS"
      },
      "execution_count": null,
      "outputs": []
    },
    {
      "cell_type": "code",
      "source": [
        "final = pd.DataFrame(data={\"Id\": ids, \"Predicted\": prediction})"
      ],
      "metadata": {
        "id": "Uhz-hTYjMIhN"
      },
      "execution_count": null,
      "outputs": []
    },
    {
      "cell_type": "code",
      "source": [
        "final.Predicted.value_counts()"
      ],
      "metadata": {
        "colab": {
          "base_uri": "https://localhost:8080/"
        },
        "id": "6Ya9cLMlMKO7",
        "outputId": "88df6066-9c46-4da2-cfd9-4ef5716a30ae"
      },
      "execution_count": null,
      "outputs": [
        {
          "output_type": "execute_result",
          "data": {
            "text/plain": [
              "0.0    3108\n",
              "1.0     199\n",
              "Name: Predicted, dtype: int64"
            ]
          },
          "metadata": {},
          "execution_count": 216
        }
      ]
    },
    {
      "cell_type": "code",
      "source": [
        "final.Predicted.unique()"
      ],
      "metadata": {
        "colab": {
          "base_uri": "https://localhost:8080/"
        },
        "id": "NL6Pu_WONfUo",
        "outputId": "c04d5e61-daa2-484e-d566-cc100a710718"
      },
      "execution_count": null,
      "outputs": [
        {
          "output_type": "execute_result",
          "data": {
            "text/plain": [
              "array([0., 1.], dtype=float32)"
            ]
          },
          "metadata": {},
          "execution_count": 217
        }
      ]
    },
    {
      "cell_type": "code",
      "source": [
        "final.to_csv(\"/content/drive/MyDrive/hacks/final.csv\", index=False)"
      ],
      "metadata": {
        "id": "y1obn4G5Njgn"
      },
      "execution_count": null,
      "outputs": []
    },
    {
      "cell_type": "code",
      "source": [
        "from google.colab import files\n",
        "files.download(\"/content/drive/MyDrive/hacks/final.csv\")"
      ],
      "metadata": {
        "colab": {
          "base_uri": "https://localhost:8080/",
          "height": 17
        },
        "id": "9wXHKOyaOqGE",
        "outputId": "b29e3a20-f2c6-4e3d-9ea8-73d2f18bf53c"
      },
      "execution_count": null,
      "outputs": [
        {
          "output_type": "display_data",
          "data": {
            "application/javascript": [
              "\n",
              "    async function download(id, filename, size) {\n",
              "      if (!google.colab.kernel.accessAllowed) {\n",
              "        return;\n",
              "      }\n",
              "      const div = document.createElement('div');\n",
              "      const label = document.createElement('label');\n",
              "      label.textContent = `Downloading \"${filename}\": `;\n",
              "      div.appendChild(label);\n",
              "      const progress = document.createElement('progress');\n",
              "      progress.max = size;\n",
              "      div.appendChild(progress);\n",
              "      document.body.appendChild(div);\n",
              "\n",
              "      const buffers = [];\n",
              "      let downloaded = 0;\n",
              "\n",
              "      const channel = await google.colab.kernel.comms.open(id);\n",
              "      // Send a message to notify the kernel that we're ready.\n",
              "      channel.send({})\n",
              "\n",
              "      for await (const message of channel.messages) {\n",
              "        // Send a message to notify the kernel that we're ready.\n",
              "        channel.send({})\n",
              "        if (message.buffers) {\n",
              "          for (const buffer of message.buffers) {\n",
              "            buffers.push(buffer);\n",
              "            downloaded += buffer.byteLength;\n",
              "            progress.value = downloaded;\n",
              "          }\n",
              "        }\n",
              "      }\n",
              "      const blob = new Blob(buffers, {type: 'application/binary'});\n",
              "      const a = document.createElement('a');\n",
              "      a.href = window.URL.createObjectURL(blob);\n",
              "      a.download = filename;\n",
              "      div.appendChild(a);\n",
              "      a.click();\n",
              "      div.remove();\n",
              "    }\n",
              "  "
            ],
            "text/plain": [
              "<IPython.core.display.Javascript object>"
            ]
          },
          "metadata": {}
        },
        {
          "output_type": "display_data",
          "data": {
            "application/javascript": [
              "download(\"download_84fc0f43-f883-402e-8ff9-02aa4e7ee7be\", \"final.csv\", 80582)"
            ],
            "text/plain": [
              "<IPython.core.display.Javascript object>"
            ]
          },
          "metadata": {}
        }
      ]
    },
    {
      "cell_type": "code",
      "source": [
        "final = final.fillna(0)"
      ],
      "metadata": {
        "id": "0R5fnZ2tMfkG"
      },
      "execution_count": null,
      "outputs": []
    },
    {
      "cell_type": "code",
      "source": [
        "final.Predicted.value_counts()"
      ],
      "metadata": {
        "colab": {
          "base_uri": "https://localhost:8080/"
        },
        "id": "ngySAOc_NA9g",
        "outputId": "5111bdc9-02c7-4950-cc29-bdfc5b948871"
      },
      "execution_count": null,
      "outputs": [
        {
          "output_type": "execute_result",
          "data": {
            "text/plain": [
              "0.0    3195\n",
              "1.0     112\n",
              "Name: Predicted, dtype: int64"
            ]
          },
          "metadata": {},
          "execution_count": 46
        }
      ]
    },
    {
      "cell_type": "code",
      "source": [
        ""
      ],
      "metadata": {
        "id": "NlYxdBzKOHqm"
      },
      "execution_count": null,
      "outputs": []
    }
  ]
}